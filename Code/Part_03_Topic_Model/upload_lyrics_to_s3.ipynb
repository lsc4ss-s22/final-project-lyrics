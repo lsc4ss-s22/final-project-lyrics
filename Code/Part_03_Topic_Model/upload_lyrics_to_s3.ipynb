{
 "cells": [
  {
   "cell_type": "code",
   "execution_count": 1,
   "id": "06a8deb3",
   "metadata": {},
   "outputs": [],
   "source": [
    "import boto3\n",
    "import os"
   ]
  },
  {
   "cell_type": "code",
   "execution_count": 2,
   "id": "e3874edb",
   "metadata": {},
   "outputs": [],
   "source": [
    "s3 = boto3.client('s3')\n",
    "s3_resource = boto3.resource('s3')"
   ]
  },
  {
   "cell_type": "code",
   "execution_count": 3,
   "id": "9b7f95df",
   "metadata": {},
   "outputs": [],
   "source": [
    "bucket = s3.create_bucket(Bucket='large-scale-computing-lyrics')"
   ]
  },
  {
   "cell_type": "code",
   "execution_count": 4,
   "id": "3dd358b7",
   "metadata": {},
   "outputs": [
    {
     "name": "stdout",
     "output_type": "stream",
     "text": [
      "[{'Name': 'large-scale-computing-lyrics', 'CreationDate': datetime.datetime(2022, 5, 29, 21, 47, 7, tzinfo=tzutc())}]\n"
     ]
    }
   ],
   "source": [
    "# check if the bucket is created succesfully\n",
    "bucket_response = s3.list_buckets()\n",
    "buckets = bucket_response['Buckets']\n",
    "print(buckets)"
   ]
  },
  {
   "cell_type": "code",
   "execution_count": 6,
   "id": "7613d9a3",
   "metadata": {},
   "outputs": [],
   "source": [
    "local_path = 'lyrics_clean.csv'\n",
    "s3.upload_file(Filename=local_path, \n",
    "       Bucket='large-scale-computing-lyrics',\n",
    "       Key = 'lyrics')"
   ]
  },
  {
   "cell_type": "code",
   "execution_count": 7,
   "id": "a754c152",
   "metadata": {},
   "outputs": [
    {
     "name": "stdout",
     "output_type": "stream",
     "text": [
      "1\n"
     ]
    }
   ],
   "source": [
    "response = s3.list_objects(\n",
    "            Bucket='large-scale-computing-lyrics',\n",
    "            MaxKeys=20)\n",
    "print(len(response['Contents']))"
   ]
  },
  {
   "cell_type": "code",
   "execution_count": 8,
   "id": "370ed56c",
   "metadata": {},
   "outputs": [
    {
     "data": {
      "text/plain": [
       "[{'Key': 'lyrics',\n",
       "  'LastModified': datetime.datetime(2022, 5, 29, 21, 50, 25, tzinfo=tzutc()),\n",
       "  'ETag': '\"4737a829a831cf624f9b5b23d9bbca47-3\"',\n",
       "  'Size': 24571428,\n",
       "  'StorageClass': 'STANDARD',\n",
       "  'Owner': {'DisplayName': 'awslabsc0w2989632t1634656995',\n",
       "   'ID': 'f76cdae46ba6e8664144891b16ca9450bcec1ddf98e130cb012fa05ad909d381'}}]"
      ]
     },
     "execution_count": 8,
     "metadata": {},
     "output_type": "execute_result"
    }
   ],
   "source": [
    "response['Contents']\n"
   ]
  },
  {
   "cell_type": "code",
   "execution_count": null,
   "id": "09087a20",
   "metadata": {},
   "outputs": [],
   "source": []
  }
 ],
 "metadata": {
  "kernelspec": {
   "display_name": "Python 3",
   "language": "python",
   "name": "python3"
  },
  "language_info": {
   "codemirror_mode": {
    "name": "ipython",
    "version": 3
   },
   "file_extension": ".py",
   "mimetype": "text/x-python",
   "name": "python",
   "nbconvert_exporter": "python",
   "pygments_lexer": "ipython3",
   "version": "3.8.8"
  }
 },
 "nbformat": 4,
 "nbformat_minor": 5
}
