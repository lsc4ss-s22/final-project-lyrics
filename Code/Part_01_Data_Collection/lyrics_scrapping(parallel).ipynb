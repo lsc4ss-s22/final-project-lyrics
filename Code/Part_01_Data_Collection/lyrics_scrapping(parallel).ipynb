{
 "cells": [
  {
   "cell_type": "markdown",
   "source": [
    "# MACS-30123 Final Project: Data Collection\n",
    "Baotong Zhang\n",
    "baotongzh@uchicago.edu"
   ],
   "metadata": {
    "collapsed": false,
    "pycharm": {
     "name": "#%% md\n"
    }
   }
  },
  {
   "cell_type": "code",
   "execution_count": 1,
   "outputs": [],
   "source": [
    "import pandas as pd\n",
    "import csv\n",
    "from tqdm import tqdm\n",
    "import re"
   ],
   "metadata": {
    "collapsed": false,
    "pycharm": {
     "name": "#%%\n"
    }
   }
  },
  {
   "cell_type": "code",
   "execution_count": 2,
   "outputs": [],
   "source": [
    "songs = pd.read_csv('billboard.csv')"
   ],
   "metadata": {
    "collapsed": false,
    "pycharm": {
     "name": "#%%\n"
    }
   }
  },
  {
   "cell_type": "code",
   "execution_count": 3,
   "outputs": [
    {
     "data": {
      "text/plain": "(330087, 7)"
     },
     "execution_count": 3,
     "metadata": {},
     "output_type": "execute_result"
    }
   ],
   "source": [
    "songs.shape"
   ],
   "metadata": {
    "collapsed": false,
    "pycharm": {
     "name": "#%%\n"
    }
   }
  },
  {
   "cell_type": "code",
   "execution_count": 4,
   "outputs": [
    {
     "data": {
      "text/plain": "         date  rank           song                               artist  \\\n0  2021-11-06     1     Easy On Me                                Adele   \n1  2021-11-06     2           Stay        The Kid LAROI & Justin Bieber   \n2  2021-11-06     3  Industry Baby              Lil Nas X & Jack Harlow   \n3  2021-11-06     4     Fancy Like                         Walker Hayes   \n4  2021-11-06     5     Bad Habits                           Ed Sheeran   \n5  2021-11-06     6     Way 2 Sexy  Drake Featuring Future & Young Thug   \n6  2021-11-06     7        Shivers                           Ed Sheeran   \n7  2021-11-06     8       Good 4 U                       Olivia Rodrigo   \n8  2021-11-06     9   Need To Know                             Doja Cat   \n9  2021-11-06    10     Levitating                             Dua Lipa   \n\n   last-week  peak-rank  weeks-on-board  \n0        1.0          1               3  \n1        2.0          1              16  \n2        3.0          1              14  \n3        4.0          3              19  \n4        5.0          2              18  \n5        6.0          1               8  \n6        9.0          7               7  \n7        7.0          1              24  \n8       11.0          9              20  \n9        8.0          2              56  ",
      "text/html": "<div>\n<style scoped>\n    .dataframe tbody tr th:only-of-type {\n        vertical-align: middle;\n    }\n\n    .dataframe tbody tr th {\n        vertical-align: top;\n    }\n\n    .dataframe thead th {\n        text-align: right;\n    }\n</style>\n<table border=\"1\" class=\"dataframe\">\n  <thead>\n    <tr style=\"text-align: right;\">\n      <th></th>\n      <th>date</th>\n      <th>rank</th>\n      <th>song</th>\n      <th>artist</th>\n      <th>last-week</th>\n      <th>peak-rank</th>\n      <th>weeks-on-board</th>\n    </tr>\n  </thead>\n  <tbody>\n    <tr>\n      <th>0</th>\n      <td>2021-11-06</td>\n      <td>1</td>\n      <td>Easy On Me</td>\n      <td>Adele</td>\n      <td>1.0</td>\n      <td>1</td>\n      <td>3</td>\n    </tr>\n    <tr>\n      <th>1</th>\n      <td>2021-11-06</td>\n      <td>2</td>\n      <td>Stay</td>\n      <td>The Kid LAROI &amp; Justin Bieber</td>\n      <td>2.0</td>\n      <td>1</td>\n      <td>16</td>\n    </tr>\n    <tr>\n      <th>2</th>\n      <td>2021-11-06</td>\n      <td>3</td>\n      <td>Industry Baby</td>\n      <td>Lil Nas X &amp; Jack Harlow</td>\n      <td>3.0</td>\n      <td>1</td>\n      <td>14</td>\n    </tr>\n    <tr>\n      <th>3</th>\n      <td>2021-11-06</td>\n      <td>4</td>\n      <td>Fancy Like</td>\n      <td>Walker Hayes</td>\n      <td>4.0</td>\n      <td>3</td>\n      <td>19</td>\n    </tr>\n    <tr>\n      <th>4</th>\n      <td>2021-11-06</td>\n      <td>5</td>\n      <td>Bad Habits</td>\n      <td>Ed Sheeran</td>\n      <td>5.0</td>\n      <td>2</td>\n      <td>18</td>\n    </tr>\n    <tr>\n      <th>5</th>\n      <td>2021-11-06</td>\n      <td>6</td>\n      <td>Way 2 Sexy</td>\n      <td>Drake Featuring Future &amp; Young Thug</td>\n      <td>6.0</td>\n      <td>1</td>\n      <td>8</td>\n    </tr>\n    <tr>\n      <th>6</th>\n      <td>2021-11-06</td>\n      <td>7</td>\n      <td>Shivers</td>\n      <td>Ed Sheeran</td>\n      <td>9.0</td>\n      <td>7</td>\n      <td>7</td>\n    </tr>\n    <tr>\n      <th>7</th>\n      <td>2021-11-06</td>\n      <td>8</td>\n      <td>Good 4 U</td>\n      <td>Olivia Rodrigo</td>\n      <td>7.0</td>\n      <td>1</td>\n      <td>24</td>\n    </tr>\n    <tr>\n      <th>8</th>\n      <td>2021-11-06</td>\n      <td>9</td>\n      <td>Need To Know</td>\n      <td>Doja Cat</td>\n      <td>11.0</td>\n      <td>9</td>\n      <td>20</td>\n    </tr>\n    <tr>\n      <th>9</th>\n      <td>2021-11-06</td>\n      <td>10</td>\n      <td>Levitating</td>\n      <td>Dua Lipa</td>\n      <td>8.0</td>\n      <td>2</td>\n      <td>56</td>\n    </tr>\n  </tbody>\n</table>\n</div>"
     },
     "execution_count": 4,
     "metadata": {},
     "output_type": "execute_result"
    }
   ],
   "source": [
    "songs.head(10)"
   ],
   "metadata": {
    "collapsed": false,
    "pycharm": {
     "name": "#%%\n"
    }
   }
  },
  {
   "cell_type": "code",
   "execution_count": 5,
   "outputs": [],
   "source": [
    "songs['year'] = pd.DatetimeIndex(songs['date']).year"
   ],
   "metadata": {
    "collapsed": false,
    "pycharm": {
     "name": "#%%\n"
    }
   }
  },
  {
   "cell_type": "code",
   "execution_count": 6,
   "outputs": [],
   "source": [
    "songs.drop(['date', 'rank', 'last-week', 'peak-rank', 'weeks-on-board'], axis=1, inplace=True)\n",
    "songs.drop_duplicates(inplace=True)"
   ],
   "metadata": {
    "collapsed": false,
    "pycharm": {
     "name": "#%%\n"
    }
   }
  },
  {
   "cell_type": "code",
   "execution_count": 7,
   "outputs": [
    {
     "data": {
      "text/plain": "(36083, 3)"
     },
     "execution_count": 7,
     "metadata": {},
     "output_type": "execute_result"
    }
   ],
   "source": [
    "songs.shape"
   ],
   "metadata": {
    "collapsed": false,
    "pycharm": {
     "name": "#%%\n"
    }
   }
  },
  {
   "cell_type": "code",
   "execution_count": 8,
   "outputs": [],
   "source": [
    "sampled_df = songs.groupby('year').sample(n=150, random_state=42, replace=False)"
   ],
   "metadata": {
    "collapsed": false,
    "pycharm": {
     "name": "#%%\n"
    }
   }
  },
  {
   "cell_type": "code",
   "execution_count": 9,
   "outputs": [
    {
     "data": {
      "text/plain": "      song  artist\nyear              \n1958   150     150\n1959   150     150\n1960   150     150\n1961   150     150\n1962   150     150\n...    ...     ...\n2017   150     150\n2018   150     150\n2019   150     150\n2020   150     150\n2021   150     150\n\n[64 rows x 2 columns]",
      "text/html": "<div>\n<style scoped>\n    .dataframe tbody tr th:only-of-type {\n        vertical-align: middle;\n    }\n\n    .dataframe tbody tr th {\n        vertical-align: top;\n    }\n\n    .dataframe thead th {\n        text-align: right;\n    }\n</style>\n<table border=\"1\" class=\"dataframe\">\n  <thead>\n    <tr style=\"text-align: right;\">\n      <th></th>\n      <th>song</th>\n      <th>artist</th>\n    </tr>\n    <tr>\n      <th>year</th>\n      <th></th>\n      <th></th>\n    </tr>\n  </thead>\n  <tbody>\n    <tr>\n      <th>1958</th>\n      <td>150</td>\n      <td>150</td>\n    </tr>\n    <tr>\n      <th>1959</th>\n      <td>150</td>\n      <td>150</td>\n    </tr>\n    <tr>\n      <th>1960</th>\n      <td>150</td>\n      <td>150</td>\n    </tr>\n    <tr>\n      <th>1961</th>\n      <td>150</td>\n      <td>150</td>\n    </tr>\n    <tr>\n      <th>1962</th>\n      <td>150</td>\n      <td>150</td>\n    </tr>\n    <tr>\n      <th>...</th>\n      <td>...</td>\n      <td>...</td>\n    </tr>\n    <tr>\n      <th>2017</th>\n      <td>150</td>\n      <td>150</td>\n    </tr>\n    <tr>\n      <th>2018</th>\n      <td>150</td>\n      <td>150</td>\n    </tr>\n    <tr>\n      <th>2019</th>\n      <td>150</td>\n      <td>150</td>\n    </tr>\n    <tr>\n      <th>2020</th>\n      <td>150</td>\n      <td>150</td>\n    </tr>\n    <tr>\n      <th>2021</th>\n      <td>150</td>\n      <td>150</td>\n    </tr>\n  </tbody>\n</table>\n<p>64 rows × 2 columns</p>\n</div>"
     },
     "execution_count": 9,
     "metadata": {},
     "output_type": "execute_result"
    }
   ],
   "source": [
    "sampled_df.groupby('year').count()"
   ],
   "metadata": {
    "collapsed": false,
    "pycharm": {
     "name": "#%%\n"
    }
   }
  },
  {
   "cell_type": "code",
   "execution_count": 10,
   "outputs": [
    {
     "data": {
      "text/plain": "(9600, 3)"
     },
     "execution_count": 10,
     "metadata": {},
     "output_type": "execute_result"
    }
   ],
   "source": [
    "sampled_df.shape"
   ],
   "metadata": {
    "collapsed": false,
    "pycharm": {
     "name": "#%%\n"
    }
   }
  },
  {
   "cell_type": "code",
   "execution_count": 11,
   "outputs": [
    {
     "data": {
      "text/plain": "                         song                            artist  year\n329256                Cerveza  Boots Brown And His Blockbusters  1958\n328165         Tunnel Of Love                         Doris Day  1958\n327942          Lucky Ladybug                    Billy & Lillie  1958\n328475  It Don't Hurt No More                       Nappy Brown  1958\n328084             The Reason                     The 5 Chanels  1958",
      "text/html": "<div>\n<style scoped>\n    .dataframe tbody tr th:only-of-type {\n        vertical-align: middle;\n    }\n\n    .dataframe tbody tr th {\n        vertical-align: top;\n    }\n\n    .dataframe thead th {\n        text-align: right;\n    }\n</style>\n<table border=\"1\" class=\"dataframe\">\n  <thead>\n    <tr style=\"text-align: right;\">\n      <th></th>\n      <th>song</th>\n      <th>artist</th>\n      <th>year</th>\n    </tr>\n  </thead>\n  <tbody>\n    <tr>\n      <th>329256</th>\n      <td>Cerveza</td>\n      <td>Boots Brown And His Blockbusters</td>\n      <td>1958</td>\n    </tr>\n    <tr>\n      <th>328165</th>\n      <td>Tunnel Of Love</td>\n      <td>Doris Day</td>\n      <td>1958</td>\n    </tr>\n    <tr>\n      <th>327942</th>\n      <td>Lucky Ladybug</td>\n      <td>Billy &amp; Lillie</td>\n      <td>1958</td>\n    </tr>\n    <tr>\n      <th>328475</th>\n      <td>It Don't Hurt No More</td>\n      <td>Nappy Brown</td>\n      <td>1958</td>\n    </tr>\n    <tr>\n      <th>328084</th>\n      <td>The Reason</td>\n      <td>The 5 Chanels</td>\n      <td>1958</td>\n    </tr>\n  </tbody>\n</table>\n</div>"
     },
     "execution_count": 11,
     "metadata": {},
     "output_type": "execute_result"
    }
   ],
   "source": [
    "sampled_df.head()"
   ],
   "metadata": {
    "collapsed": false,
    "pycharm": {
     "name": "#%%\n"
    }
   }
  },
  {
   "cell_type": "code",
   "execution_count": 12,
   "outputs": [],
   "source": [
    "year_df = sampled_df[sampled_df['year'] == 1958]"
   ],
   "metadata": {
    "collapsed": false,
    "pycharm": {
     "name": "#%%\n"
    }
   }
  },
  {
   "cell_type": "code",
   "execution_count": 13,
   "outputs": [
    {
     "data": {
      "text/plain": "                         song                            artist  year\n329256                Cerveza  Boots Brown And His Blockbusters  1958\n328165         Tunnel Of Love                         Doris Day  1958\n327942          Lucky Ladybug                    Billy & Lillie  1958\n328475  It Don't Hurt No More                       Nappy Brown  1958\n328084             The Reason                     The 5 Chanels  1958",
      "text/html": "<div>\n<style scoped>\n    .dataframe tbody tr th:only-of-type {\n        vertical-align: middle;\n    }\n\n    .dataframe tbody tr th {\n        vertical-align: top;\n    }\n\n    .dataframe thead th {\n        text-align: right;\n    }\n</style>\n<table border=\"1\" class=\"dataframe\">\n  <thead>\n    <tr style=\"text-align: right;\">\n      <th></th>\n      <th>song</th>\n      <th>artist</th>\n      <th>year</th>\n    </tr>\n  </thead>\n  <tbody>\n    <tr>\n      <th>329256</th>\n      <td>Cerveza</td>\n      <td>Boots Brown And His Blockbusters</td>\n      <td>1958</td>\n    </tr>\n    <tr>\n      <th>328165</th>\n      <td>Tunnel Of Love</td>\n      <td>Doris Day</td>\n      <td>1958</td>\n    </tr>\n    <tr>\n      <th>327942</th>\n      <td>Lucky Ladybug</td>\n      <td>Billy &amp; Lillie</td>\n      <td>1958</td>\n    </tr>\n    <tr>\n      <th>328475</th>\n      <td>It Don't Hurt No More</td>\n      <td>Nappy Brown</td>\n      <td>1958</td>\n    </tr>\n    <tr>\n      <th>328084</th>\n      <td>The Reason</td>\n      <td>The 5 Chanels</td>\n      <td>1958</td>\n    </tr>\n  </tbody>\n</table>\n</div>"
     },
     "execution_count": 13,
     "metadata": {},
     "output_type": "execute_result"
    }
   ],
   "source": [
    "year_df.head()"
   ],
   "metadata": {
    "collapsed": false,
    "pycharm": {
     "name": "#%%\n"
    }
   }
  },
  {
   "cell_type": "code",
   "execution_count": 15,
   "outputs": [],
   "source": [
    "token = 'JyD9-_LdqpyHilUA3esIXZt0Dp4Ftcc4TMo9cq7b4q2zLVfDDR1AYtIoXsXnf1DS'"
   ],
   "metadata": {
    "collapsed": false,
    "pycharm": {
     "name": "#%%\n"
    }
   }
  },
  {
   "cell_type": "code",
   "execution_count": 16,
   "outputs": [],
   "source": [
    "genius = Genius(token)\n",
    "genius.verbose = False # Turn off status messages\n",
    "genius.remove_section_headers = True # Remove section headers (e.g. [Chorus]) from lyrics when searching\n",
    "genius.skip_non_songs = False # Include hits thought to be non-songs (e.g. track lists)\n",
    "genius.excluded_terms = [\"(Remix)\", \"(Live)\"] # Exclude songs with these words in their title"
   ],
   "metadata": {
    "collapsed": false,
    "pycharm": {
     "name": "#%%\n"
    }
   }
  },
  {
   "cell_type": "code",
   "execution_count": 17,
   "outputs": [],
   "source": [
    "def scraper():\n",
    "    with open('song_info.csv', 'w', newline=\"\", encoding='utf-8') as csvfile:\n",
    "        output = csv.writer(csvfile)\n",
    "        output.writerow(['Year', 'Artist', 'Song Name', 'Lyrics'])\n",
    "        for year in range(1958, 2022):\n",
    "            year_df = sampled_df[sampled_df['year'] == year]\n",
    "            for i in tqdm(range(150)):\n",
    "                song_name = year_df.iloc[i, 0]\n",
    "                song_artist = re.split('& | Featuring | And', year_df.iloc[i, 1]) + [year_df.iloc[i, 1]]\n",
    "                try:\n",
    "                    for j in song_artist:\n",
    "                        if genius.search_artist(j , max_songs=1, sort=\"title\"):\n",
    "                            artist = genius.search_artist(j , max_songs=1, sort=\"title\")\n",
    "                            try:\n",
    "                                song = artist.song(song_name)\n",
    "                                lyrics = song.lyrics\n",
    "                                output.writerow([year, year_df.iloc[i, 1], song_name, lyrics])\n",
    "                                break\n",
    "                            except:\n",
    "                                continue\n",
    "                        else:\n",
    "                            continue\n",
    "                except:\n",
    "                    pass"
   ],
   "metadata": {
    "collapsed": false,
    "pycharm": {
     "name": "#%%\n"
    }
   }
  },
  {
   "cell_type": "code",
   "execution_count": 18,
   "outputs": [
    {
     "name": "stderr",
     "output_type": "stream",
     "text": [
      "100%|██████████| 150/150 [20:22<00:00,  8.15s/it] \n",
      "100%|██████████| 150/150 [26:33<00:00, 10.62s/it] \n",
      "100%|██████████| 150/150 [36:52<00:00, 14.75s/it]  \n",
      "100%|██████████| 150/150 [20:01<00:00,  8.01s/it] \n",
      "100%|██████████| 150/150 [17:04<00:00,  6.83s/it]\n",
      "100%|██████████| 150/150 [17:44<00:00,  7.10s/it]\n",
      "100%|██████████| 150/150 [22:16<00:00,  8.91s/it]\n",
      "100%|██████████| 150/150 [18:23<00:00,  7.36s/it]\n",
      "100%|██████████| 150/150 [17:26<00:00,  6.98s/it]\n",
      "100%|██████████| 150/150 [20:48<00:00,  8.33s/it]\n",
      "100%|██████████| 150/150 [21:33<00:00,  8.62s/it] \n",
      "100%|██████████| 150/150 [16:55<00:00,  6.77s/it]\n",
      "100%|██████████| 150/150 [18:49<00:00,  7.53s/it]\n",
      "100%|██████████| 150/150 [44:06<00:00, 17.64s/it]   \n",
      "100%|██████████| 150/150 [21:30<00:00,  8.60s/it]\n",
      "100%|██████████| 150/150 [41:46<00:00, 16.71s/it]  \n",
      "100%|██████████| 150/150 [19:43<00:00,  7.89s/it]\n",
      "100%|██████████| 150/150 [24:40<00:00,  9.87s/it] \n",
      "100%|██████████| 150/150 [24:19<00:00,  9.73s/it] \n",
      "100%|██████████| 150/150 [19:32<00:00,  7.82s/it]\n",
      "100%|██████████| 150/150 [23:35<00:00,  9.43s/it] \n",
      "100%|██████████| 150/150 [20:20<00:00,  8.14s/it] \n",
      "100%|██████████| 150/150 [23:40<00:00,  9.47s/it]\n",
      "100%|██████████| 150/150 [20:18<00:00,  8.13s/it]\n",
      "100%|██████████| 150/150 [20:09<00:00,  8.06s/it]\n",
      "100%|██████████| 150/150 [17:05<00:00,  6.83s/it]\n",
      "100%|██████████| 150/150 [17:44<00:00,  7.10s/it]\n",
      "100%|██████████| 150/150 [19:34<00:00,  7.83s/it]\n",
      "100%|██████████| 150/150 [19:02<00:00,  7.62s/it]\n",
      "100%|██████████| 150/150 [17:37<00:00,  7.05s/it]\n",
      "100%|██████████| 150/150 [19:53<00:00,  7.96s/it]\n",
      "100%|██████████| 150/150 [19:38<00:00,  7.86s/it] \n",
      "100%|██████████| 150/150 [18:21<00:00,  7.34s/it]\n",
      "100%|██████████| 150/150 [19:02<00:00,  7.62s/it]\n",
      "100%|██████████| 150/150 [18:12<00:00,  7.28s/it]\n",
      "100%|██████████| 150/150 [19:56<00:00,  7.98s/it]\n",
      "100%|██████████| 150/150 [17:27<00:00,  6.98s/it]\n",
      "100%|██████████| 150/150 [18:45<00:00,  7.50s/it]\n",
      "100%|██████████| 150/150 [39:22<00:00, 15.75s/it]  \n",
      "100%|██████████| 150/150 [23:45<00:00,  9.50s/it]\n",
      "100%|██████████| 150/150 [21:22<00:00,  8.55s/it]\n",
      "100%|██████████| 150/150 [17:01<00:00,  6.81s/it]\n",
      "100%|██████████| 150/150 [20:05<00:00,  8.03s/it]\n",
      "100%|██████████| 150/150 [22:44<00:00,  9.10s/it]\n",
      "100%|██████████| 150/150 [20:17<00:00,  8.12s/it]\n",
      "100%|██████████| 150/150 [21:52<00:00,  8.75s/it] \n",
      "100%|██████████| 150/150 [18:18<00:00,  7.33s/it]\n",
      "100%|██████████| 150/150 [18:32<00:00,  7.42s/it]\n",
      "100%|██████████| 150/150 [20:02<00:00,  8.02s/it]\n",
      "100%|██████████| 150/150 [19:49<00:00,  7.93s/it]\n",
      "100%|██████████| 150/150 [20:30<00:00,  8.20s/it]\n",
      "100%|██████████| 150/150 [25:36<00:00, 10.25s/it] \n",
      "100%|██████████| 150/150 [23:03<00:00,  9.23s/it] \n",
      "100%|██████████| 150/150 [19:46<00:00,  7.91s/it]\n",
      "100%|██████████| 150/150 [22:52<00:00,  9.15s/it]\n",
      "100%|██████████| 150/150 [26:29<00:00, 10.60s/it] \n",
      "100%|██████████| 150/150 [21:19<00:00,  8.53s/it]\n",
      "100%|██████████| 150/150 [22:53<00:00,  9.16s/it]\n",
      "100%|██████████| 150/150 [22:15<00:00,  8.90s/it]\n",
      "100%|██████████| 150/150 [29:20<00:00, 11.74s/it]  \n",
      "100%|██████████| 150/150 [23:09<00:00,  9.26s/it]\n",
      "100%|██████████| 150/150 [22:28<00:00,  8.99s/it]\n",
      "100%|██████████| 150/150 [20:23<00:00,  8.15s/it]\n",
      "100%|██████████| 150/150 [21:27<00:00,  8.58s/it]\n"
     ]
    }
   ],
   "source": [
    "scraper()"
   ],
   "metadata": {
    "collapsed": false,
    "pycharm": {
     "name": "#%%\n"
    }
   }
  },
  {
   "cell_type": "code",
   "execution_count": 19,
   "outputs": [],
   "source": [
    "lyrics_df = pd.read_csv('song_info.csv')"
   ],
   "metadata": {
    "collapsed": false,
    "pycharm": {
     "name": "#%%\n"
    }
   }
  },
  {
   "cell_type": "code",
   "execution_count": 23,
   "outputs": [
    {
     "data": {
      "text/plain": "   Year                            Artist              Song Name  \\\n0  1958  Boots Brown And His Blockbusters                Cerveza   \n1  1958                         Doris Day         Tunnel Of Love   \n2  1958                    Billy & Lillie          Lucky Ladybug   \n3  1958                       Nappy Brown  It Don't Hurt No More   \n4  1958                         Cozy Cole                Topsy I   \n\n                                              Lyrics  \n0      Cerveza LyricsInstrumental\\nInstrumentalEmbed  \n1  Tunnel Of Love LyricsGetting crazy on the walt...  \n2  Lucky Ladybug LyricsLucky Ladybug, lucky ladyb...  \n3  Damn Lyrics\\nOhhhhhhhhh! That's right\\nYour gi...  \n4  NAGASAKI LyricsHook:\\nIm back in this bitch an...  ",
      "text/html": "<div>\n<style scoped>\n    .dataframe tbody tr th:only-of-type {\n        vertical-align: middle;\n    }\n\n    .dataframe tbody tr th {\n        vertical-align: top;\n    }\n\n    .dataframe thead th {\n        text-align: right;\n    }\n</style>\n<table border=\"1\" class=\"dataframe\">\n  <thead>\n    <tr style=\"text-align: right;\">\n      <th></th>\n      <th>Year</th>\n      <th>Artist</th>\n      <th>Song Name</th>\n      <th>Lyrics</th>\n    </tr>\n  </thead>\n  <tbody>\n    <tr>\n      <th>0</th>\n      <td>1958</td>\n      <td>Boots Brown And His Blockbusters</td>\n      <td>Cerveza</td>\n      <td>Cerveza LyricsInstrumental\\nInstrumentalEmbed</td>\n    </tr>\n    <tr>\n      <th>1</th>\n      <td>1958</td>\n      <td>Doris Day</td>\n      <td>Tunnel Of Love</td>\n      <td>Tunnel Of Love LyricsGetting crazy on the walt...</td>\n    </tr>\n    <tr>\n      <th>2</th>\n      <td>1958</td>\n      <td>Billy &amp; Lillie</td>\n      <td>Lucky Ladybug</td>\n      <td>Lucky Ladybug LyricsLucky Ladybug, lucky ladyb...</td>\n    </tr>\n    <tr>\n      <th>3</th>\n      <td>1958</td>\n      <td>Nappy Brown</td>\n      <td>It Don't Hurt No More</td>\n      <td>Damn Lyrics\\nOhhhhhhhhh! That's right\\nYour gi...</td>\n    </tr>\n    <tr>\n      <th>4</th>\n      <td>1958</td>\n      <td>Cozy Cole</td>\n      <td>Topsy I</td>\n      <td>NAGASAKI LyricsHook:\\nIm back in this bitch an...</td>\n    </tr>\n  </tbody>\n</table>\n</div>"
     },
     "execution_count": 23,
     "metadata": {},
     "output_type": "execute_result"
    }
   ],
   "source": [
    "lyrics_df.head()"
   ],
   "metadata": {
    "collapsed": false,
    "pycharm": {
     "name": "#%%\n"
    }
   }
  },
  {
   "cell_type": "code",
   "execution_count": 26,
   "outputs": [
    {
     "data": {
      "text/plain": "      Artist  Song Name  Lyrics\nYear                           \n1958     122        122     120\n1959     115        115     111\n1960     129        129     127\n1961     125        125     124\n1962     124        124     121\n...      ...        ...     ...\n2017     148        148     148\n2018     147        147     147\n2019     145        145     145\n2020     144        144     144\n2021     146        146     145\n\n[64 rows x 3 columns]",
      "text/html": "<div>\n<style scoped>\n    .dataframe tbody tr th:only-of-type {\n        vertical-align: middle;\n    }\n\n    .dataframe tbody tr th {\n        vertical-align: top;\n    }\n\n    .dataframe thead th {\n        text-align: right;\n    }\n</style>\n<table border=\"1\" class=\"dataframe\">\n  <thead>\n    <tr style=\"text-align: right;\">\n      <th></th>\n      <th>Artist</th>\n      <th>Song Name</th>\n      <th>Lyrics</th>\n    </tr>\n    <tr>\n      <th>Year</th>\n      <th></th>\n      <th></th>\n      <th></th>\n    </tr>\n  </thead>\n  <tbody>\n    <tr>\n      <th>1958</th>\n      <td>122</td>\n      <td>122</td>\n      <td>120</td>\n    </tr>\n    <tr>\n      <th>1959</th>\n      <td>115</td>\n      <td>115</td>\n      <td>111</td>\n    </tr>\n    <tr>\n      <th>1960</th>\n      <td>129</td>\n      <td>129</td>\n      <td>127</td>\n    </tr>\n    <tr>\n      <th>1961</th>\n      <td>125</td>\n      <td>125</td>\n      <td>124</td>\n    </tr>\n    <tr>\n      <th>1962</th>\n      <td>124</td>\n      <td>124</td>\n      <td>121</td>\n    </tr>\n    <tr>\n      <th>...</th>\n      <td>...</td>\n      <td>...</td>\n      <td>...</td>\n    </tr>\n    <tr>\n      <th>2017</th>\n      <td>148</td>\n      <td>148</td>\n      <td>148</td>\n    </tr>\n    <tr>\n      <th>2018</th>\n      <td>147</td>\n      <td>147</td>\n      <td>147</td>\n    </tr>\n    <tr>\n      <th>2019</th>\n      <td>145</td>\n      <td>145</td>\n      <td>145</td>\n    </tr>\n    <tr>\n      <th>2020</th>\n      <td>144</td>\n      <td>144</td>\n      <td>144</td>\n    </tr>\n    <tr>\n      <th>2021</th>\n      <td>146</td>\n      <td>146</td>\n      <td>145</td>\n    </tr>\n  </tbody>\n</table>\n<p>64 rows × 3 columns</p>\n</div>"
     },
     "execution_count": 26,
     "metadata": {},
     "output_type": "execute_result"
    }
   ],
   "source": [
    "lyrics_df.groupby('Year').count()"
   ],
   "metadata": {
    "collapsed": false,
    "pycharm": {
     "name": "#%%\n"
    }
   }
  },
  {
   "cell_type": "code",
   "execution_count": null,
   "outputs": [],
   "source": [],
   "metadata": {
    "collapsed": false,
    "pycharm": {
     "name": "#%%\n"
    }
   }
  }
 ],
 "metadata": {
  "kernelspec": {
   "display_name": "Python 3",
   "language": "python",
   "name": "python3"
  },
  "language_info": {
   "codemirror_mode": {
    "name": "ipython",
    "version": 2
   },
   "file_extension": ".py",
   "mimetype": "text/x-python",
   "name": "python",
   "nbconvert_exporter": "python",
   "pygments_lexer": "ipython2",
   "version": "2.7.6"
  }
 },
 "nbformat": 4,
 "nbformat_minor": 0
}
