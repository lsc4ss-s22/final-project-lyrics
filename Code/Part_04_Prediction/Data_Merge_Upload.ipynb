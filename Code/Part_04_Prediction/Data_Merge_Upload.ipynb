{
 "cells": [
  {
   "cell_type": "markdown",
   "source": [
    "# Cleaned Data Merge and Upload to S3"
   ],
   "metadata": {
    "collapsed": false,
    "pycharm": {
     "name": "#%% md\n"
    }
   }
  },
  {
   "cell_type": "markdown",
   "source": [
    "##  Part I: Obtain the Weeks-on-board"
   ],
   "metadata": {
    "collapsed": false,
    "pycharm": {
     "name": "#%% md\n"
    }
   }
  },
  {
   "cell_type": "code",
   "execution_count": 5,
   "outputs": [],
   "source": [
    "import pandas as pd"
   ],
   "metadata": {
    "collapsed": false,
    "pycharm": {
     "name": "#%%\n"
    }
   }
  },
  {
   "cell_type": "code",
   "execution_count": 6,
   "outputs": [],
   "source": [
    "songs = pd.read_csv('billboard.csv')"
   ],
   "metadata": {
    "collapsed": false,
    "pycharm": {
     "name": "#%%\n"
    }
   }
  },
  {
   "cell_type": "code",
   "execution_count": 7,
   "outputs": [
    {
     "data": {
      "text/plain": "         date  rank           song                         artist  last-week  \\\n0  2021-11-06     1     Easy On Me                          Adele        1.0   \n1  2021-11-06     2           Stay  The Kid LAROI & Justin Bieber        2.0   \n2  2021-11-06     3  Industry Baby        Lil Nas X & Jack Harlow        3.0   \n3  2021-11-06     4     Fancy Like                   Walker Hayes        4.0   \n4  2021-11-06     5     Bad Habits                     Ed Sheeran        5.0   \n\n   peak-rank  weeks-on-board  \n0          1               3  \n1          1              16  \n2          1              14  \n3          3              19  \n4          2              18  ",
      "text/html": "<div>\n<style scoped>\n    .dataframe tbody tr th:only-of-type {\n        vertical-align: middle;\n    }\n\n    .dataframe tbody tr th {\n        vertical-align: top;\n    }\n\n    .dataframe thead th {\n        text-align: right;\n    }\n</style>\n<table border=\"1\" class=\"dataframe\">\n  <thead>\n    <tr style=\"text-align: right;\">\n      <th></th>\n      <th>date</th>\n      <th>rank</th>\n      <th>song</th>\n      <th>artist</th>\n      <th>last-week</th>\n      <th>peak-rank</th>\n      <th>weeks-on-board</th>\n    </tr>\n  </thead>\n  <tbody>\n    <tr>\n      <th>0</th>\n      <td>2021-11-06</td>\n      <td>1</td>\n      <td>Easy On Me</td>\n      <td>Adele</td>\n      <td>1.0</td>\n      <td>1</td>\n      <td>3</td>\n    </tr>\n    <tr>\n      <th>1</th>\n      <td>2021-11-06</td>\n      <td>2</td>\n      <td>Stay</td>\n      <td>The Kid LAROI &amp; Justin Bieber</td>\n      <td>2.0</td>\n      <td>1</td>\n      <td>16</td>\n    </tr>\n    <tr>\n      <th>2</th>\n      <td>2021-11-06</td>\n      <td>3</td>\n      <td>Industry Baby</td>\n      <td>Lil Nas X &amp; Jack Harlow</td>\n      <td>3.0</td>\n      <td>1</td>\n      <td>14</td>\n    </tr>\n    <tr>\n      <th>3</th>\n      <td>2021-11-06</td>\n      <td>4</td>\n      <td>Fancy Like</td>\n      <td>Walker Hayes</td>\n      <td>4.0</td>\n      <td>3</td>\n      <td>19</td>\n    </tr>\n    <tr>\n      <th>4</th>\n      <td>2021-11-06</td>\n      <td>5</td>\n      <td>Bad Habits</td>\n      <td>Ed Sheeran</td>\n      <td>5.0</td>\n      <td>2</td>\n      <td>18</td>\n    </tr>\n  </tbody>\n</table>\n</div>"
     },
     "execution_count": 7,
     "metadata": {},
     "output_type": "execute_result"
    }
   ],
   "source": [
    "songs.head()"
   ],
   "metadata": {
    "collapsed": false,
    "pycharm": {
     "name": "#%%\n"
    }
   }
  },
  {
   "cell_type": "code",
   "execution_count": 8,
   "outputs": [],
   "source": [
    "df_0 = songs[songs['song'] == 'Easy On Me']"
   ],
   "metadata": {
    "collapsed": false,
    "pycharm": {
     "name": "#%%\n"
    }
   }
  },
  {
   "cell_type": "code",
   "execution_count": 9,
   "outputs": [],
   "source": [
    "max_val = songs[songs['song'] == 'Easy On Me']['weeks-on-board'].max()"
   ],
   "metadata": {
    "collapsed": false,
    "pycharm": {
     "name": "#%%\n"
    }
   }
  },
  {
   "cell_type": "code",
   "execution_count": 32,
   "outputs": [],
   "source": [
    "for i in range(1958, 2022):\n",
    "    songs_each_year = pd.read_csv(r'{}.csv'.format(i))\n",
    "    lst = []\n",
    "    for j in range(songs_each_year.shape[0]):\n",
    "        max_val = songs[songs['song'] == songs_each_year.iloc[j, 3]]['weeks-on-board'].max()\n",
    "        lst.append(max_val)\n",
    "    songs_each_year['weeks-on-board'] = lst\n",
    "    songs_each_year.to_csv(f'{i}_rank.csv', index=False)"
   ],
   "metadata": {
    "collapsed": false,
    "pycharm": {
     "name": "#%%\n"
    }
   }
  },
  {
   "cell_type": "markdown",
   "source": [
    "## Part II: Upload to the S3"
   ],
   "metadata": {
    "collapsed": false,
    "pycharm": {
     "name": "#%% md\n"
    }
   }
  },
  {
   "cell_type": "code",
   "execution_count": 9,
   "outputs": [],
   "source": [
    "import boto3"
   ],
   "metadata": {
    "collapsed": false,
    "pycharm": {
     "name": "#%%\n"
    }
   }
  },
  {
   "cell_type": "code",
   "execution_count": 10,
   "outputs": [],
   "source": [
    "s3 = boto3.client('s3')\n",
    "s3_resource = boto3.resource('s3')"
   ],
   "metadata": {
    "collapsed": false,
    "pycharm": {
     "name": "#%%\n"
    }
   }
  },
  {
   "cell_type": "code",
   "execution_count": 11,
   "outputs": [],
   "source": [
    "bucket = s3.create_bucket(Bucket='final-project-raw-data')"
   ],
   "metadata": {
    "collapsed": false,
    "pycharm": {
     "name": "#%%\n"
    }
   }
  },
  {
   "cell_type": "code",
   "execution_count": 12,
   "outputs": [
    {
     "name": "stdout",
     "output_type": "stream",
     "text": [
      "[{'Name': 'aws-emr-resources-336011647036-us-east-1', 'CreationDate': datetime.datetime(2022, 5, 24, 21, 32, 40, tzinfo=tzutc())}, {'Name': 'aws-logs-336011647036-us-east-1', 'CreationDate': datetime.datetime(2022, 5, 24, 21, 32, 40, tzinfo=tzutc())}, {'Name': 'final-project-raw-data', 'CreationDate': datetime.datetime(2022, 6, 2, 0, 59, 46, tzinfo=tzutc())}, {'Name': 'survey-bao', 'CreationDate': datetime.datetime(2022, 5, 3, 21, 7, 13, tzinfo=tzutc())}]\n"
     ]
    }
   ],
   "source": [
    "# check if it's already there\n",
    "bucket_response = s3.list_buckets()\n",
    "buckets = bucket_response['Buckets']\n",
    "print(buckets)"
   ],
   "metadata": {
    "collapsed": false,
    "pycharm": {
     "name": "#%%\n"
    }
   }
  },
  {
   "cell_type": "code",
   "execution_count": 13,
   "outputs": [],
   "source": [
    "for i in range(1958, 2022):\n",
    "    path = f'{i}_rank.csv'\n",
    "    s3.upload_file(Filename=path,\n",
    "       Bucket='final-project-raw-data',\n",
    "       Key = f'lyrics_{i}.csv')"
   ],
   "metadata": {
    "collapsed": false,
    "pycharm": {
     "name": "#%%\n"
    }
   }
  },
  {
   "cell_type": "code",
   "execution_count": 14,
   "outputs": [
    {
     "name": "stdout",
     "output_type": "stream",
     "text": [
      "20\n"
     ]
    }
   ],
   "source": [
    "# get response\n",
    "\n",
    "response = s3.list_objects(\n",
    "            Bucket='final-project-raw-data',\n",
    "            MaxKeys=20)\n",
    "print(len(response['Contents']))"
   ],
   "metadata": {
    "collapsed": false,
    "pycharm": {
     "name": "#%%\n"
    }
   }
  },
  {
   "cell_type": "code",
   "execution_count": 15,
   "outputs": [
    {
     "data": {
      "text/plain": "[{'Key': 'lyrics_1958.csv',\n  'LastModified': datetime.datetime(2022, 6, 2, 6, 34, 4, tzinfo=tzutc()),\n  'ETag': '\"1aec2716ffc894bec2deb5df780cc38a\"',\n  'Size': 35445,\n  'StorageClass': 'STANDARD',\n  'Owner': {'DisplayName': 'awslabsc0w2793617t1631881177',\n   'ID': 'cc9ffde1bc7e4669af93a17c249880be976cf82cf77dfc0bc75ed252ac8ac9e5'}},\n {'Key': 'lyrics_1959.csv',\n  'LastModified': datetime.datetime(2022, 6, 2, 6, 34, 4, tzinfo=tzutc()),\n  'ETag': '\"b407f914b3d7edd88ea5488a6419abf5\"',\n  'Size': 47478,\n  'StorageClass': 'STANDARD',\n  'Owner': {'DisplayName': 'awslabsc0w2793617t1631881177',\n   'ID': 'cc9ffde1bc7e4669af93a17c249880be976cf82cf77dfc0bc75ed252ac8ac9e5'}},\n {'Key': 'lyrics_1960.csv',\n  'LastModified': datetime.datetime(2022, 6, 2, 6, 34, 5, tzinfo=tzutc()),\n  'ETag': '\"d6e6dd71d03dfffab94cc62672967cff\"',\n  'Size': 58146,\n  'StorageClass': 'STANDARD',\n  'Owner': {'DisplayName': 'awslabsc0w2793617t1631881177',\n   'ID': 'cc9ffde1bc7e4669af93a17c249880be976cf82cf77dfc0bc75ed252ac8ac9e5'}},\n {'Key': 'lyrics_1961.csv',\n  'LastModified': datetime.datetime(2022, 6, 2, 6, 34, 5, tzinfo=tzutc()),\n  'ETag': '\"f30c86a3121ea268b462f9a5a7851d27\"',\n  'Size': 43099,\n  'StorageClass': 'STANDARD',\n  'Owner': {'DisplayName': 'awslabsc0w2793617t1631881177',\n   'ID': 'cc9ffde1bc7e4669af93a17c249880be976cf82cf77dfc0bc75ed252ac8ac9e5'}},\n {'Key': 'lyrics_1962.csv',\n  'LastModified': datetime.datetime(2022, 6, 2, 6, 34, 5, tzinfo=tzutc()),\n  'ETag': '\"026c01e076a3df3a3e1e63702f9659eb\"',\n  'Size': 46453,\n  'StorageClass': 'STANDARD',\n  'Owner': {'DisplayName': 'awslabsc0w2793617t1631881177',\n   'ID': 'cc9ffde1bc7e4669af93a17c249880be976cf82cf77dfc0bc75ed252ac8ac9e5'}},\n {'Key': 'lyrics_1963.csv',\n  'LastModified': datetime.datetime(2022, 6, 2, 6, 34, 5, tzinfo=tzutc()),\n  'ETag': '\"1955f3dea0fb5180d76c9f326c09cff8\"',\n  'Size': 28565,\n  'StorageClass': 'STANDARD',\n  'Owner': {'DisplayName': 'awslabsc0w2793617t1631881177',\n   'ID': 'cc9ffde1bc7e4669af93a17c249880be976cf82cf77dfc0bc75ed252ac8ac9e5'}},\n {'Key': 'lyrics_1964.csv',\n  'LastModified': datetime.datetime(2022, 6, 2, 6, 34, 5, tzinfo=tzutc()),\n  'ETag': '\"9cb7ee2a5c885510a99c5dcca3615d7d\"',\n  'Size': 67764,\n  'StorageClass': 'STANDARD',\n  'Owner': {'DisplayName': 'awslabsc0w2793617t1631881177',\n   'ID': 'cc9ffde1bc7e4669af93a17c249880be976cf82cf77dfc0bc75ed252ac8ac9e5'}},\n {'Key': 'lyrics_1965.csv',\n  'LastModified': datetime.datetime(2022, 6, 2, 6, 34, 5, tzinfo=tzutc()),\n  'ETag': '\"aa5f1c6648d8e11dd43e3fec0246d523\"',\n  'Size': 44821,\n  'StorageClass': 'STANDARD',\n  'Owner': {'DisplayName': 'awslabsc0w2793617t1631881177',\n   'ID': 'cc9ffde1bc7e4669af93a17c249880be976cf82cf77dfc0bc75ed252ac8ac9e5'}},\n {'Key': 'lyrics_1966.csv',\n  'LastModified': datetime.datetime(2022, 6, 2, 6, 34, 5, tzinfo=tzutc()),\n  'ETag': '\"5c342600623c77562e44f8b13c584712\"',\n  'Size': 62439,\n  'StorageClass': 'STANDARD',\n  'Owner': {'DisplayName': 'awslabsc0w2793617t1631881177',\n   'ID': 'cc9ffde1bc7e4669af93a17c249880be976cf82cf77dfc0bc75ed252ac8ac9e5'}},\n {'Key': 'lyrics_1967.csv',\n  'LastModified': datetime.datetime(2022, 6, 2, 6, 34, 5, tzinfo=tzutc()),\n  'ETag': '\"df237ab9a79e4468977a29d94a63ca20\"',\n  'Size': 67837,\n  'StorageClass': 'STANDARD',\n  'Owner': {'DisplayName': 'awslabsc0w2793617t1631881177',\n   'ID': 'cc9ffde1bc7e4669af93a17c249880be976cf82cf77dfc0bc75ed252ac8ac9e5'}},\n {'Key': 'lyrics_1968.csv',\n  'LastModified': datetime.datetime(2022, 6, 2, 6, 34, 6, tzinfo=tzutc()),\n  'ETag': '\"f21660191d73b75e32d89de5e08f8722\"',\n  'Size': 40672,\n  'StorageClass': 'STANDARD',\n  'Owner': {'DisplayName': 'awslabsc0w2793617t1631881177',\n   'ID': 'cc9ffde1bc7e4669af93a17c249880be976cf82cf77dfc0bc75ed252ac8ac9e5'}},\n {'Key': 'lyrics_1969.csv',\n  'LastModified': datetime.datetime(2022, 6, 2, 6, 34, 6, tzinfo=tzutc()),\n  'ETag': '\"e449f02b3657d6a68409bc025830e85a\"',\n  'Size': 107173,\n  'StorageClass': 'STANDARD',\n  'Owner': {'DisplayName': 'awslabsc0w2793617t1631881177',\n   'ID': 'cc9ffde1bc7e4669af93a17c249880be976cf82cf77dfc0bc75ed252ac8ac9e5'}},\n {'Key': 'lyrics_1970.csv',\n  'LastModified': datetime.datetime(2022, 6, 2, 6, 34, 6, tzinfo=tzutc()),\n  'ETag': '\"00191aad6d4910ea4f5ff308dffd20a8\"',\n  'Size': 98486,\n  'StorageClass': 'STANDARD',\n  'Owner': {'DisplayName': 'awslabsc0w2793617t1631881177',\n   'ID': 'cc9ffde1bc7e4669af93a17c249880be976cf82cf77dfc0bc75ed252ac8ac9e5'}},\n {'Key': 'lyrics_1971.csv',\n  'LastModified': datetime.datetime(2022, 6, 2, 6, 34, 6, tzinfo=tzutc()),\n  'ETag': '\"6ed2e062861172c332c798c89b5057e1\"',\n  'Size': 48604,\n  'StorageClass': 'STANDARD',\n  'Owner': {'DisplayName': 'awslabsc0w2793617t1631881177',\n   'ID': 'cc9ffde1bc7e4669af93a17c249880be976cf82cf77dfc0bc75ed252ac8ac9e5'}},\n {'Key': 'lyrics_1972.csv',\n  'LastModified': datetime.datetime(2022, 6, 2, 6, 34, 6, tzinfo=tzutc()),\n  'ETag': '\"c5cac4e484224997a4b4c7118d91f4a4\"',\n  'Size': 54887,\n  'StorageClass': 'STANDARD',\n  'Owner': {'DisplayName': 'awslabsc0w2793617t1631881177',\n   'ID': 'cc9ffde1bc7e4669af93a17c249880be976cf82cf77dfc0bc75ed252ac8ac9e5'}},\n {'Key': 'lyrics_1973.csv',\n  'LastModified': datetime.datetime(2022, 6, 2, 6, 34, 6, tzinfo=tzutc()),\n  'ETag': '\"dc9f370183ba36f7b6394491a6023bee\"',\n  'Size': 80968,\n  'StorageClass': 'STANDARD',\n  'Owner': {'DisplayName': 'awslabsc0w2793617t1631881177',\n   'ID': 'cc9ffde1bc7e4669af93a17c249880be976cf82cf77dfc0bc75ed252ac8ac9e5'}},\n {'Key': 'lyrics_1974.csv',\n  'LastModified': datetime.datetime(2022, 6, 2, 6, 34, 6, tzinfo=tzutc()),\n  'ETag': '\"21870fc4bdd7a35ed6a8b3a27b5b8cff\"',\n  'Size': 43608,\n  'StorageClass': 'STANDARD',\n  'Owner': {'DisplayName': 'awslabsc0w2793617t1631881177',\n   'ID': 'cc9ffde1bc7e4669af93a17c249880be976cf82cf77dfc0bc75ed252ac8ac9e5'}},\n {'Key': 'lyrics_1975.csv',\n  'LastModified': datetime.datetime(2022, 6, 2, 6, 34, 6, tzinfo=tzutc()),\n  'ETag': '\"3d1237c0ed18c57507be3d0e7a3ef358\"',\n  'Size': 44773,\n  'StorageClass': 'STANDARD',\n  'Owner': {'DisplayName': 'awslabsc0w2793617t1631881177',\n   'ID': 'cc9ffde1bc7e4669af93a17c249880be976cf82cf77dfc0bc75ed252ac8ac9e5'}},\n {'Key': 'lyrics_1976.csv',\n  'LastModified': datetime.datetime(2022, 6, 2, 6, 34, 6, tzinfo=tzutc()),\n  'ETag': '\"21cd9eec41e4c51f1685aa397e1fc4a1\"',\n  'Size': 43619,\n  'StorageClass': 'STANDARD',\n  'Owner': {'DisplayName': 'awslabsc0w2793617t1631881177',\n   'ID': 'cc9ffde1bc7e4669af93a17c249880be976cf82cf77dfc0bc75ed252ac8ac9e5'}},\n {'Key': 'lyrics_1977.csv',\n  'LastModified': datetime.datetime(2022, 6, 2, 6, 34, 7, tzinfo=tzutc()),\n  'ETag': '\"c09ba389cecc2cd14f2ef76f383eca46\"',\n  'Size': 46295,\n  'StorageClass': 'STANDARD',\n  'Owner': {'DisplayName': 'awslabsc0w2793617t1631881177',\n   'ID': 'cc9ffde1bc7e4669af93a17c249880be976cf82cf77dfc0bc75ed252ac8ac9e5'}}]"
     },
     "execution_count": 15,
     "metadata": {},
     "output_type": "execute_result"
    }
   ],
   "source": [
    "response['Contents']"
   ],
   "metadata": {
    "collapsed": false,
    "pycharm": {
     "name": "#%%\n"
    }
   }
  }
 ],
 "metadata": {
  "kernelspec": {
   "display_name": "Python 3",
   "language": "python",
   "name": "python3"
  },
  "language_info": {
   "codemirror_mode": {
    "name": "ipython",
    "version": 2
   },
   "file_extension": ".py",
   "mimetype": "text/x-python",
   "name": "python",
   "nbconvert_exporter": "python",
   "pygments_lexer": "ipython2",
   "version": "2.7.6"
  }
 },
 "nbformat": 4,
 "nbformat_minor": 0
}