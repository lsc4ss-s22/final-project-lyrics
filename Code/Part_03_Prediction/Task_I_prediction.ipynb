{
 "cells": [
  {
   "cell_type": "markdown",
   "id": "232e8000-ef54-4240-9513-c894ff18ede4",
   "metadata": {
    "pycharm": {
     "name": "#%% md\n"
    }
   },
   "source": [
    "# MACS-30123 Final Project: Weeks-on-board Prediction"
   ]
  },
  {
   "cell_type": "code",
   "execution_count": 1,
   "id": "d352957e-a18a-48c3-8939-14e2d5cc60be",
   "metadata": {
    "execution": {
     "iopub.execute_input": "2022-06-02T09:21:10.459601Z",
     "iopub.status.busy": "2022-06-02T09:21:10.459288Z",
     "iopub.status.idle": "2022-06-02T09:21:58.474124Z",
     "shell.execute_reply": "2022-06-02T09:21:58.473372Z",
     "shell.execute_reply.started": "2022-06-02T09:21:10.459571Z"
    },
    "tags": [],
    "pycharm": {
     "name": "#%%\n"
    }
   },
   "outputs": [
    {
     "data": {
      "application/vnd.jupyter.widget-view+json": {
       "model_id": "2243f4f4da0a4693a1d917c1f6aa6cd1",
       "version_major": 2,
       "version_minor": 0
      },
      "text/plain": [
       "VBox()"
      ]
     },
     "metadata": {},
     "output_type": "display_data"
    },
    {
     "name": "stdout",
     "output_type": "stream",
     "text": [
      "Starting Spark application\n"
     ]
    },
    {
     "data": {
      "text/html": [
       "<table>\n",
       "<tr><th>ID</th><th>YARN Application ID</th><th>Kind</th><th>State</th><th>Spark UI</th><th>Driver log</th><th>Current session?</th></tr><tr><td>2</td><td>application_1654160718252_0003</td><td>pyspark</td><td>idle</td><td><a target=\"_blank\" href=\"http://ip-172-31-38-66.ec2.internal:20888/proxy/application_1654160718252_0003/\" class=\"emr-proxy-link\" emr-resource=\"j-1UCH33ZZM05RK\n",
       "\" application-id=\"application_1654160718252_0003\">Link</a></td><td><a target=\"_blank\" href=\"http://ip-172-31-35-39.ec2.internal:8042/node/containerlogs/container_1654160718252_0003_01_000001/livy\" >Link</a></td><td>✔</td></tr></table>"
      ],
      "text/plain": [
       "<IPython.core.display.HTML object>"
      ]
     },
     "metadata": {},
     "output_type": "display_data"
    },
    {
     "data": {
      "application/vnd.jupyter.widget-view+json": {
       "model_id": "",
       "version_major": 2,
       "version_minor": 0
      },
      "text/plain": [
       "FloatProgress(value=0.0, bar_style='info', description='Progress:', layout=Layout(height='25px', width='50%'),…"
      ]
     },
     "metadata": {},
     "output_type": "display_data"
    },
    {
     "name": "stdout",
     "output_type": "stream",
     "text": [
      "SparkSession available as 'spark'.\n"
     ]
    },
    {
     "data": {
      "application/vnd.jupyter.widget-view+json": {
       "model_id": "",
       "version_major": 2,
       "version_minor": 0
      },
      "text/plain": [
       "FloatProgress(value=0.0, bar_style='info', description='Progress:', layout=Layout(height='25px', width='50%'),…"
      ]
     },
     "metadata": {},
     "output_type": "display_data"
    },
    {
     "name": "stdout",
     "output_type": "stream",
     "text": [
      "Collecting boto3\n",
      "  Using cached https://files.pythonhosted.org/packages/ce/3d/dc2fedf59cac4c7bd60362ccea1c1b299bb7952a9c2d563a7277a0c69e93/boto3-1.24.1-py3-none-any.whl\n",
      "Requirement already satisfied: jmespath<2.0.0,>=0.7.1 in /usr/local/lib/python3.7/site-packages (from boto3)\n",
      "Requirement already satisfied: s3transfer<0.7.0,>=0.6.0 in /usr/local/lib/python3.7/site-packages (from boto3)\n",
      "Requirement already satisfied: botocore<1.28.0,>=1.27.1 in /usr/local/lib/python3.7/site-packages (from boto3)\n",
      "Requirement already satisfied: urllib3<1.27,>=1.25.4 in /usr/local/lib/python3.7/site-packages (from botocore<1.28.0,>=1.27.1->boto3)\n",
      "Requirement already satisfied: python-dateutil<3.0.0,>=2.1 in /usr/local/lib/python3.7/site-packages (from botocore<1.28.0,>=1.27.1->boto3)\n",
      "Requirement already satisfied: six>=1.5 in /usr/local/lib/python3.7/site-packages (from python-dateutil<3.0.0,>=2.1->botocore<1.28.0,>=1.27.1->boto3)\n",
      "Installing collected packages: boto3\n",
      "Successfully installed boto3-1.24.1\n",
      "\n",
      "You are using pip version 9.0.1, however version 22.1.2 is available.\n",
      "You should consider upgrading via the 'pip install --upgrade pip' command."
     ]
    }
   ],
   "source": [
    "sc.install_pypi_package(\"boto3\") # use boto3 to see book data in S3 bucket"
   ]
  },
  {
   "cell_type": "markdown",
   "id": "e56f6ee3-150f-4e02-a94e-bb4e3034c586",
   "metadata": {
    "pycharm": {
     "name": "#%% md\n"
    }
   },
   "source": [
    "## Import data amd process the data"
   ]
  },
  {
   "cell_type": "code",
   "execution_count": 2,
   "id": "cefb7a6d-3042-4b84-b1c6-f6bf15a87485",
   "metadata": {
    "execution": {
     "iopub.execute_input": "2022-06-02T09:21:58.475841Z",
     "iopub.status.busy": "2022-06-02T09:21:58.475546Z",
     "iopub.status.idle": "2022-06-02T09:21:59.271780Z",
     "shell.execute_reply": "2022-06-02T09:21:59.271023Z",
     "shell.execute_reply.started": "2022-06-02T09:21:58.475804Z"
    },
    "tags": [],
    "pycharm": {
     "name": "#%%\n"
    }
   },
   "outputs": [
    {
     "data": {
      "application/vnd.jupyter.widget-view+json": {
       "model_id": "98ed6f6431db4d9eb49bdc68e26a2750",
       "version_major": 2,
       "version_minor": 0
      },
      "text/plain": [
       "VBox()"
      ]
     },
     "metadata": {},
     "output_type": "display_data"
    },
    {
     "data": {
      "application/vnd.jupyter.widget-view+json": {
       "model_id": "",
       "version_major": 2,
       "version_minor": 0
      },
      "text/plain": [
       "FloatProgress(value=0.0, bar_style='info', description='Progress:', layout=Layout(height='25px', width='50%'),…"
      ]
     },
     "metadata": {},
     "output_type": "display_data"
    },
    {
     "name": "stdout",
     "output_type": "stream",
     "text": [
      "2022-06-02 06:34:04+00:00 \t lyrics_1958.csv \n",
      "\n",
      "2022-06-02 06:34:04+00:00 \t lyrics_1959.csv \n",
      "\n",
      "2022-06-02 06:34:05+00:00 \t lyrics_1960.csv \n",
      "\n",
      "2022-06-02 06:34:05+00:00 \t lyrics_1961.csv \n",
      "\n",
      "2022-06-02 06:34:05+00:00 \t lyrics_1962.csv \n",
      "\n",
      "2022-06-02 06:34:05+00:00 \t lyrics_1963.csv \n",
      "\n",
      "2022-06-02 06:34:05+00:00 \t lyrics_1964.csv \n",
      "\n",
      "2022-06-02 06:34:05+00:00 \t lyrics_1965.csv \n",
      "\n",
      "2022-06-02 06:34:05+00:00 \t lyrics_1966.csv \n",
      "\n",
      "2022-06-02 06:34:05+00:00 \t lyrics_1967.csv \n",
      "\n",
      "2022-06-02 06:34:06+00:00 \t lyrics_1968.csv \n",
      "\n",
      "2022-06-02 06:34:06+00:00 \t lyrics_1969.csv \n",
      "\n",
      "2022-06-02 06:34:06+00:00 \t lyrics_1970.csv \n",
      "\n",
      "2022-06-02 06:34:06+00:00 \t lyrics_1971.csv \n",
      "\n",
      "2022-06-02 06:34:06+00:00 \t lyrics_1972.csv \n",
      "\n",
      "2022-06-02 06:34:06+00:00 \t lyrics_1973.csv \n",
      "\n",
      "2022-06-02 06:34:06+00:00 \t lyrics_1974.csv \n",
      "\n",
      "2022-06-02 06:34:06+00:00 \t lyrics_1975.csv \n",
      "\n",
      "2022-06-02 06:34:06+00:00 \t lyrics_1976.csv \n",
      "\n",
      "2022-06-02 06:34:07+00:00 \t lyrics_1977.csv \n",
      "\n",
      "2022-06-02 06:34:07+00:00 \t lyrics_1978.csv \n",
      "\n",
      "2022-06-02 06:34:07+00:00 \t lyrics_1979.csv \n",
      "\n",
      "2022-06-02 06:34:07+00:00 \t lyrics_1980.csv \n",
      "\n",
      "2022-06-02 06:34:07+00:00 \t lyrics_1981.csv \n",
      "\n",
      "2022-06-02 06:34:07+00:00 \t lyrics_1982.csv \n",
      "\n",
      "2022-06-02 06:34:07+00:00 \t lyrics_1983.csv \n",
      "\n",
      "2022-06-02 06:34:07+00:00 \t lyrics_1984.csv \n",
      "\n",
      "2022-06-02 06:34:07+00:00 \t lyrics_1985.csv \n",
      "\n",
      "2022-06-02 06:34:08+00:00 \t lyrics_1986.csv \n",
      "\n",
      "2022-06-02 06:34:08+00:00 \t lyrics_1987.csv \n",
      "\n",
      "2022-06-02 06:34:08+00:00 \t lyrics_1988.csv \n",
      "\n",
      "2022-06-02 06:34:08+00:00 \t lyrics_1989.csv \n",
      "\n",
      "2022-06-02 06:34:08+00:00 \t lyrics_1990.csv \n",
      "\n",
      "2022-06-02 06:34:08+00:00 \t lyrics_1991.csv \n",
      "\n",
      "2022-06-02 06:34:08+00:00 \t lyrics_1992.csv \n",
      "\n",
      "2022-06-02 06:34:09+00:00 \t lyrics_1993.csv \n",
      "\n",
      "2022-06-02 06:34:09+00:00 \t lyrics_1994.csv \n",
      "\n",
      "2022-06-02 06:34:09+00:00 \t lyrics_1995.csv \n",
      "\n",
      "2022-06-02 06:34:09+00:00 \t lyrics_1996.csv \n",
      "\n",
      "2022-06-02 06:34:09+00:00 \t lyrics_1997.csv \n",
      "\n",
      "2022-06-02 06:34:09+00:00 \t lyrics_1998.csv \n",
      "\n",
      "2022-06-02 06:34:09+00:00 \t lyrics_1999.csv \n",
      "\n",
      "2022-06-02 06:34:09+00:00 \t lyrics_2000.csv \n",
      "\n",
      "2022-06-02 06:34:09+00:00 \t lyrics_2001.csv \n",
      "\n",
      "2022-06-02 06:34:10+00:00 \t lyrics_2002.csv \n",
      "\n",
      "2022-06-02 06:34:10+00:00 \t lyrics_2003.csv \n",
      "\n",
      "2022-06-02 06:34:10+00:00 \t lyrics_2004.csv \n",
      "\n",
      "2022-06-02 06:34:10+00:00 \t lyrics_2005.csv \n",
      "\n",
      "2022-06-02 06:34:10+00:00 \t lyrics_2006.csv \n",
      "\n",
      "2022-06-02 06:34:10+00:00 \t lyrics_2007.csv \n",
      "\n",
      "2022-06-02 06:34:10+00:00 \t lyrics_2008.csv \n",
      "\n",
      "2022-06-02 06:34:10+00:00 \t lyrics_2009.csv \n",
      "\n",
      "2022-06-02 06:34:11+00:00 \t lyrics_2010.csv \n",
      "\n",
      "2022-06-02 06:34:11+00:00 \t lyrics_2011.csv \n",
      "\n",
      "2022-06-02 06:34:11+00:00 \t lyrics_2012.csv \n",
      "\n",
      "2022-06-02 06:34:11+00:00 \t lyrics_2013.csv \n",
      "\n",
      "2022-06-02 06:34:11+00:00 \t lyrics_2014.csv \n",
      "\n",
      "2022-06-02 06:34:11+00:00 \t lyrics_2015.csv \n",
      "\n",
      "2022-06-02 06:34:11+00:00 \t lyrics_2016.csv \n",
      "\n",
      "2022-06-02 06:34:12+00:00 \t lyrics_2017.csv \n",
      "\n",
      "2022-06-02 06:34:12+00:00 \t lyrics_2018.csv \n",
      "\n",
      "2022-06-02 06:34:12+00:00 \t lyrics_2019.csv \n",
      "\n",
      "2022-06-02 06:34:12+00:00 \t lyrics_2020.csv \n",
      "\n",
      "2022-06-02 06:34:12+00:00 \t lyrics_2021.csv"
     ]
    }
   ],
   "source": [
    "import boto3\n",
    "\n",
    "s3 = boto3.resource('s3')\n",
    "bucket = 'final-project-raw-data'\n",
    "bucket_resource = s3.Bucket(bucket)\n",
    "\n",
    "for obj in bucket_resource.objects.all():\n",
    "    print(obj.last_modified,\"\\t\", obj.key, \"\\n\")"
   ]
  },
  {
   "cell_type": "code",
   "execution_count": 3,
   "id": "e7950aeb-637f-4c44-b0d9-2a7f2c7f4a33",
   "metadata": {
    "execution": {
     "iopub.execute_input": "2022-06-02T09:21:59.274110Z",
     "iopub.status.busy": "2022-06-02T09:21:59.273633Z",
     "iopub.status.idle": "2022-06-02T09:22:38.697952Z",
     "shell.execute_reply": "2022-06-02T09:22:38.697055Z",
     "shell.execute_reply.started": "2022-06-02T09:21:59.274072Z"
    },
    "tags": [],
    "pycharm": {
     "name": "#%%\n"
    }
   },
   "outputs": [
    {
     "data": {
      "application/vnd.jupyter.widget-view+json": {
       "model_id": "7e74f40b65b54c089374e9b37bf965b6",
       "version_major": 2,
       "version_minor": 0
      },
      "text/plain": [
       "VBox()"
      ]
     },
     "metadata": {},
     "output_type": "display_data"
    },
    {
     "data": {
      "application/vnd.jupyter.widget-view+json": {
       "model_id": "",
       "version_major": 2,
       "version_minor": 0
      },
      "text/plain": [
       "FloatProgress(value=0.0, bar_style='info', description='Progress:', layout=Layout(height='25px', width='50%'),…"
      ]
     },
     "metadata": {},
     "output_type": "display_data"
    },
    {
     "name": "stdout",
     "output_type": "stream",
     "text": [
      "Collecting pandas==1.0.3\n",
      "  Using cached https://files.pythonhosted.org/packages/4a/6a/94b219b8ea0f2d580169e85ed1edc0163743f55aaeca8a44c2e8fc1e344e/pandas-1.0.3-cp37-cp37m-manylinux1_x86_64.whl\n",
      "Requirement already satisfied: pytz>=2017.2 in /usr/local/lib/python3.7/site-packages (from pandas==1.0.3)\n",
      "Requirement already satisfied: numpy>=1.13.3 in /usr/local/lib64/python3.7/site-packages (from pandas==1.0.3)\n",
      "Requirement already satisfied: python-dateutil>=2.6.1 in /usr/local/lib/python3.7/site-packages (from pandas==1.0.3)\n",
      "Requirement already satisfied: six>=1.5 in /usr/local/lib/python3.7/site-packages (from python-dateutil>=2.6.1->pandas==1.0.3)\n",
      "Installing collected packages: pandas\n",
      "Successfully installed pandas-1.0.3\n",
      "\n",
      "Collecting scipy==1.4.1\n",
      "  Using cached https://files.pythonhosted.org/packages/dd/82/c1fe128f3526b128cfd185580ba40d01371c5d299fcf7f77968e22dfcc2e/scipy-1.4.1-cp37-cp37m-manylinux1_x86_64.whl\n",
      "Requirement already satisfied: numpy>=1.13.3 in /usr/local/lib64/python3.7/site-packages (from scipy==1.4.1)\n",
      "Installing collected packages: scipy\n",
      "Successfully installed scipy-1.4.1\n",
      "\n",
      "Collecting matplotlib==3.2.1\n",
      "  Using cached https://files.pythonhosted.org/packages/b2/c2/71fcf957710f3ba1f09088b35776a799ba7dd95f7c2b195ec800933b276b/matplotlib-3.2.1-cp37-cp37m-manylinux1_x86_64.whl\n",
      "Requirement already satisfied: python-dateutil>=2.1 in /usr/local/lib/python3.7/site-packages (from matplotlib==3.2.1)\n",
      "Collecting pyparsing!=2.0.4,!=2.1.2,!=2.1.6,>=2.0.1 (from matplotlib==3.2.1)\n",
      "  Using cached https://files.pythonhosted.org/packages/6c/10/a7d0fa5baea8fe7b50f448ab742f26f52b80bfca85ac2be9d35cdd9a3246/pyparsing-3.0.9-py3-none-any.whl\n",
      "Collecting cycler>=0.10 (from matplotlib==3.2.1)\n",
      "  Using cached https://files.pythonhosted.org/packages/5c/f9/695d6bedebd747e5eb0fe8fad57b72fdf25411273a39791cde838d5a8f51/cycler-0.11.0-py3-none-any.whl\n",
      "Requirement already satisfied: numpy>=1.11 in /usr/local/lib64/python3.7/site-packages (from matplotlib==3.2.1)\n",
      "Collecting kiwisolver>=1.0.1 (from matplotlib==3.2.1)\n",
      "  Using cached https://files.pythonhosted.org/packages/51/50/9a9a94afa26c50fc5d9127272737806990aa698c7a1c220b8e5075e70304/kiwisolver-1.4.2-cp37-cp37m-manylinux_2_5_x86_64.manylinux1_x86_64.whl\n",
      "Requirement already satisfied: six>=1.5 in /usr/local/lib/python3.7/site-packages (from python-dateutil>=2.1->matplotlib==3.2.1)\n",
      "Collecting typing-extensions; python_version < \"3.8\" (from kiwisolver>=1.0.1->matplotlib==3.2.1)\n",
      "  Using cached https://files.pythonhosted.org/packages/75/e1/932e06004039dd670c9d5e1df0cd606bf46e29a28e65d5bb28e894ea29c9/typing_extensions-4.2.0-py3-none-any.whl\n",
      "Installing collected packages: pyparsing, cycler, typing-extensions, kiwisolver, matplotlib\n",
      "Successfully installed cycler-0.11.0 kiwisolver-1.4.2 matplotlib-3.2.1 pyparsing-3.0.9 typing-extensions-4.2.0\n",
      "\n",
      "Collecting seaborn==0.10.1\n",
      "  Using cached https://files.pythonhosted.org/packages/c7/e6/54aaaafd0b87f51dfba92ba73da94151aa3bc179e5fe88fc5dfb3038e860/seaborn-0.10.1-py3-none-any.whl\n",
      "Requirement already satisfied: pandas>=0.22.0 in /mnt/tmp/1654161703908-0/lib/python3.7/site-packages (from seaborn==0.10.1)\n",
      "Requirement already satisfied: numpy>=1.13.3 in /usr/local/lib64/python3.7/site-packages (from seaborn==0.10.1)\n",
      "Requirement already satisfied: scipy>=1.0.1 in /mnt/tmp/1654161703908-0/lib/python3.7/site-packages (from seaborn==0.10.1)\n",
      "Requirement already satisfied: matplotlib>=2.1.2 in /mnt/tmp/1654161703908-0/lib/python3.7/site-packages (from seaborn==0.10.1)\n",
      "Requirement already satisfied: pytz>=2017.2 in /usr/local/lib/python3.7/site-packages (from pandas>=0.22.0->seaborn==0.10.1)\n",
      "Requirement already satisfied: python-dateutil>=2.6.1 in /usr/local/lib/python3.7/site-packages (from pandas>=0.22.0->seaborn==0.10.1)\n",
      "Requirement already satisfied: pyparsing!=2.0.4,!=2.1.2,!=2.1.6,>=2.0.1 in /mnt/tmp/1654161703908-0/lib/python3.7/site-packages (from matplotlib>=2.1.2->seaborn==0.10.1)\n",
      "Requirement already satisfied: cycler>=0.10 in /mnt/tmp/1654161703908-0/lib/python3.7/site-packages (from matplotlib>=2.1.2->seaborn==0.10.1)\n",
      "Requirement already satisfied: kiwisolver>=1.0.1 in /mnt/tmp/1654161703908-0/lib/python3.7/site-packages (from matplotlib>=2.1.2->seaborn==0.10.1)\n",
      "Requirement already satisfied: six>=1.5 in /usr/local/lib/python3.7/site-packages (from python-dateutil>=2.6.1->pandas>=0.22.0->seaborn==0.10.1)\n",
      "Requirement already satisfied: typing-extensions; python_version < \"3.8\" in /mnt/tmp/1654161703908-0/lib/python3.7/site-packages (from kiwisolver>=1.0.1->matplotlib>=2.1.2->seaborn==0.10.1)\n",
      "Installing collected packages: seaborn\n",
      "Successfully installed seaborn-0.10.1\n",
      "\n",
      "You are using pip version 9.0.1, however version 22.1.2 is available.\n",
      "You should consider upgrading via the 'pip install --upgrade pip' command.\n",
      "\n",
      "You are using pip version 9.0.1, however version 22.1.2 is available.\n",
      "You should consider upgrading via the 'pip install --upgrade pip' command.\n",
      "\n",
      "You are using pip version 9.0.1, however version 22.1.2 is available.\n",
      "You should consider upgrading via the 'pip install --upgrade pip' command.\n",
      "\n",
      "You are using pip version 9.0.1, however version 22.1.2 is available.\n",
      "You should consider upgrading via the 'pip install --upgrade pip' command."
     ]
    }
   ],
   "source": [
    "# install packages\n",
    "\n",
    "sc.install_pypi_package(\"pandas==1.0.3\")\n",
    "sc.install_pypi_package(\"scipy==1.4.1\")\n",
    "sc.install_pypi_package(\"matplotlib==3.2.1\")\n",
    "sc.install_pypi_package(\"seaborn==0.10.1\")"
   ]
  },
  {
   "cell_type": "code",
   "execution_count": 4,
   "id": "4d70173f-250e-4bf1-af29-c67a247abf59",
   "metadata": {
    "execution": {
     "iopub.execute_input": "2022-06-02T09:22:38.699793Z",
     "iopub.status.busy": "2022-06-02T09:22:38.699495Z",
     "iopub.status.idle": "2022-06-02T09:22:48.046011Z",
     "shell.execute_reply": "2022-06-02T09:22:48.045267Z",
     "shell.execute_reply.started": "2022-06-02T09:22:38.699756Z"
    },
    "tags": [],
    "pycharm": {
     "name": "#%%\n"
    }
   },
   "outputs": [
    {
     "data": {
      "application/vnd.jupyter.widget-view+json": {
       "model_id": "00b2e5ceadcc4fe7bd8ade497f00356d",
       "version_major": 2,
       "version_minor": 0
      },
      "text/plain": [
       "VBox()"
      ]
     },
     "metadata": {},
     "output_type": "display_data"
    },
    {
     "data": {
      "application/vnd.jupyter.widget-view+json": {
       "model_id": "",
       "version_major": 2,
       "version_minor": 0
      },
      "text/plain": [
       "FloatProgress(value=0.0, bar_style='info', description='Progress:', layout=Layout(height='25px', width='50%'),…"
      ]
     },
     "metadata": {},
     "output_type": "display_data"
    }
   ],
   "source": [
    "# Import Data \n",
    "\n",
    "data = spark.read.csv('s3://final-project-raw-data/*.csv',header=True)"
   ]
  },
  {
   "cell_type": "code",
   "execution_count": 5,
   "id": "4da09ddf-6f5a-4152-a4b2-8ee063bf90e4",
   "metadata": {
    "execution": {
     "iopub.execute_input": "2022-06-02T09:22:48.047426Z",
     "iopub.status.busy": "2022-06-02T09:22:48.047172Z",
     "iopub.status.idle": "2022-06-02T09:22:51.354866Z",
     "shell.execute_reply": "2022-06-02T09:22:51.354276Z",
     "shell.execute_reply.started": "2022-06-02T09:22:48.047393Z"
    },
    "tags": [],
    "pycharm": {
     "name": "#%%\n"
    }
   },
   "outputs": [
    {
     "data": {
      "application/vnd.jupyter.widget-view+json": {
       "model_id": "c977ff84bcb04e8498a8aea55ae6722f",
       "version_major": 2,
       "version_minor": 0
      },
      "text/plain": [
       "VBox()"
      ]
     },
     "metadata": {},
     "output_type": "display_data"
    },
    {
     "data": {
      "application/vnd.jupyter.widget-view+json": {
       "model_id": "",
       "version_major": 2,
       "version_minor": 0
      },
      "text/plain": [
       "FloatProgress(value=0.0, bar_style='info', description='Progress:', layout=Layout(height='25px', width='50%'),…"
      ]
     },
     "metadata": {},
     "output_type": "display_data"
    },
    {
     "name": "stdout",
     "output_type": "stream",
     "text": [
      "Total Columns: 6\n",
      "Total Rows: 5056\n",
      "root\n",
      " |-- Unnamed: 0: string (nullable = true)\n",
      " |-- Year: string (nullable = true)\n",
      " |-- Artist: string (nullable = true)\n",
      " |-- song_name: string (nullable = true)\n",
      " |-- further_clean_text: string (nullable = true)\n",
      " |-- weeks-on-board: string (nullable = true)"
     ]
    }
   ],
   "source": [
    "print('Total Columns: %d' % len(data.dtypes))\n",
    "print('Total Rows: %d' % data.count())\n",
    "data.printSchema()"
   ]
  },
  {
   "cell_type": "code",
   "execution_count": 6,
   "id": "fe9d1e6f-d5fa-4804-93a1-8f486334b9c8",
   "metadata": {
    "execution": {
     "iopub.execute_input": "2022-06-02T09:22:51.355899Z",
     "iopub.status.busy": "2022-06-02T09:22:51.355717Z",
     "iopub.status.idle": "2022-06-02T09:22:51.442067Z",
     "shell.execute_reply": "2022-06-02T09:22:51.441481Z",
     "shell.execute_reply.started": "2022-06-02T09:22:51.355875Z"
    },
    "tags": [],
    "pycharm": {
     "name": "#%%\n"
    }
   },
   "outputs": [
    {
     "data": {
      "application/vnd.jupyter.widget-view+json": {
       "model_id": "343d63d967cd40a0941d91fbd5513f9d",
       "version_major": 2,
       "version_minor": 0
      },
      "text/plain": [
       "VBox()"
      ]
     },
     "metadata": {},
     "output_type": "display_data"
    },
    {
     "data": {
      "application/vnd.jupyter.widget-view+json": {
       "model_id": "",
       "version_major": 2,
       "version_minor": 0
      },
      "text/plain": [
       "FloatProgress(value=0.0, bar_style='info', description='Progress:', layout=Layout(height='25px', width='50%'),…"
      ]
     },
     "metadata": {},
     "output_type": "display_data"
    }
   ],
   "source": [
    "# Preprocesse the data\n",
    "\n",
    "from pyspark.sql.types import IntegerType\n",
    "\n",
    "data = data.withColumn(\"weeks-on-board\", data[\"weeks-on-board\"].cast(IntegerType()))\n",
    "data = data.withColumn(\"Year\", data[\"Year\"].cast(IntegerType()))"
   ]
  },
  {
   "cell_type": "code",
   "execution_count": 7,
   "id": "d63ad5fb-908b-45a1-907c-2f9b7276f0af",
   "metadata": {
    "execution": {
     "iopub.execute_input": "2022-06-02T09:22:51.443140Z",
     "iopub.status.busy": "2022-06-02T09:22:51.442958Z",
     "iopub.status.idle": "2022-06-02T09:22:51.512250Z",
     "shell.execute_reply": "2022-06-02T09:22:51.511474Z",
     "shell.execute_reply.started": "2022-06-02T09:22:51.443117Z"
    },
    "tags": [],
    "pycharm": {
     "name": "#%%\n"
    }
   },
   "outputs": [
    {
     "data": {
      "application/vnd.jupyter.widget-view+json": {
       "model_id": "fa835cd9d2e042369b383b5fb6c1de0e",
       "version_major": 2,
       "version_minor": 0
      },
      "text/plain": [
       "VBox()"
      ]
     },
     "metadata": {},
     "output_type": "display_data"
    },
    {
     "data": {
      "application/vnd.jupyter.widget-view+json": {
       "model_id": "",
       "version_major": 2,
       "version_minor": 0
      },
      "text/plain": [
       "FloatProgress(value=0.0, bar_style='info', description='Progress:', layout=Layout(height='25px', width='50%'),…"
      ]
     },
     "metadata": {},
     "output_type": "display_data"
    }
   ],
   "source": [
    "data = data.drop(\"Unnamed: 0\")"
   ]
  },
  {
   "cell_type": "code",
   "execution_count": 8,
   "id": "6cec5232-e72a-4538-b27b-f8cbda3b1da8",
   "metadata": {
    "execution": {
     "iopub.execute_input": "2022-06-02T09:22:51.514890Z",
     "iopub.status.busy": "2022-06-02T09:22:51.514628Z",
     "iopub.status.idle": "2022-06-02T09:22:52.294065Z",
     "shell.execute_reply": "2022-06-02T09:22:52.293335Z",
     "shell.execute_reply.started": "2022-06-02T09:22:51.514854Z"
    },
    "tags": [],
    "pycharm": {
     "name": "#%%\n"
    }
   },
   "outputs": [
    {
     "data": {
      "application/vnd.jupyter.widget-view+json": {
       "model_id": "c3b745dd0c2a40b2ac0818a2ff59c0ef",
       "version_major": 2,
       "version_minor": 0
      },
      "text/plain": [
       "VBox()"
      ]
     },
     "metadata": {},
     "output_type": "display_data"
    },
    {
     "data": {
      "application/vnd.jupyter.widget-view+json": {
       "model_id": "",
       "version_major": 2,
       "version_minor": 0
      },
      "text/plain": [
       "FloatProgress(value=0.0, bar_style='info', description='Progress:', layout=Layout(height='25px', width='50%'),…"
      ]
     },
     "metadata": {},
     "output_type": "display_data"
    },
    {
     "name": "stdout",
     "output_type": "stream",
     "text": [
      "Total Columns: 5\n",
      "Total Rows: 5056\n",
      "root\n",
      " |-- Year: integer (nullable = true)\n",
      " |-- Artist: string (nullable = true)\n",
      " |-- song_name: string (nullable = true)\n",
      " |-- further_clean_text: string (nullable = true)\n",
      " |-- weeks-on-board: integer (nullable = true)"
     ]
    }
   ],
   "source": [
    "print('Total Columns: %d' % len(data.dtypes))\n",
    "print('Total Rows: %d' % data.count())\n",
    "data.printSchema()"
   ]
  },
  {
   "cell_type": "code",
   "execution_count": 9,
   "id": "9dfd540d-a4b4-4864-b366-d3d97e66eca7",
   "metadata": {
    "execution": {
     "iopub.execute_input": "2022-06-02T09:22:52.295500Z",
     "iopub.status.busy": "2022-06-02T09:22:52.295330Z",
     "iopub.status.idle": "2022-06-02T09:22:53.084834Z",
     "shell.execute_reply": "2022-06-02T09:22:53.083990Z",
     "shell.execute_reply.started": "2022-06-02T09:22:52.295478Z"
    },
    "tags": [],
    "pycharm": {
     "name": "#%%\n"
    }
   },
   "outputs": [
    {
     "data": {
      "application/vnd.jupyter.widget-view+json": {
       "model_id": "289e0a6d08b043dc802d72277d7e2e01",
       "version_major": 2,
       "version_minor": 0
      },
      "text/plain": [
       "VBox()"
      ]
     },
     "metadata": {},
     "output_type": "display_data"
    },
    {
     "data": {
      "application/vnd.jupyter.widget-view+json": {
       "model_id": "",
       "version_major": 2,
       "version_minor": 0
      },
      "text/plain": [
       "FloatProgress(value=0.0, bar_style='info', description='Progress:', layout=Layout(height='25px', width='50%'),…"
      ]
     },
     "metadata": {},
     "output_type": "display_data"
    }
   ],
   "source": [
    "# create label\n",
    "\n",
    "data = data.withColumn('long', (data['weeks-on-board'] >= 16).cast(\"integer\"))"
   ]
  },
  {
   "cell_type": "code",
   "execution_count": 10,
   "id": "e6c976df-3edc-43c3-8601-a07cb5b0ed9b",
   "metadata": {
    "execution": {
     "iopub.execute_input": "2022-06-02T09:22:53.093864Z",
     "iopub.status.busy": "2022-06-02T09:22:53.091097Z",
     "iopub.status.idle": "2022-06-02T09:22:56.547534Z",
     "shell.execute_reply": "2022-06-02T09:22:56.546674Z",
     "shell.execute_reply.started": "2022-06-02T09:22:53.093820Z"
    },
    "tags": [],
    "pycharm": {
     "name": "#%%\n"
    }
   },
   "outputs": [
    {
     "data": {
      "application/vnd.jupyter.widget-view+json": {
       "model_id": "7b7c26575164444696a344d9b9569178",
       "version_major": 2,
       "version_minor": 0
      },
      "text/plain": [
       "VBox()"
      ]
     },
     "metadata": {},
     "output_type": "display_data"
    },
    {
     "data": {
      "application/vnd.jupyter.widget-view+json": {
       "model_id": "",
       "version_major": 2,
       "version_minor": 0
      },
      "text/plain": [
       "FloatProgress(value=0.0, bar_style='info', description='Progress:', layout=Layout(height='25px', width='50%'),…"
      ]
     },
     "metadata": {},
     "output_type": "display_data"
    },
    {
     "name": "stdout",
     "output_type": "stream",
     "text": [
      "+----+-----+\n",
      "|long|count|\n",
      "+----+-----+\n",
      "|null|    4|\n",
      "|   1| 2540|\n",
      "|   0| 2512|\n",
      "+----+-----+"
     ]
    }
   ],
   "source": [
    "(data.groupBy('long')\n",
    "     .count()\n",
    "     .show()\n",
    ")"
   ]
  },
  {
   "cell_type": "code",
   "execution_count": 11,
   "id": "0face7ea-d0ea-412b-bac8-7a95ed894bb4",
   "metadata": {
    "execution": {
     "iopub.execute_input": "2022-06-02T09:22:56.549210Z",
     "iopub.status.busy": "2022-06-02T09:22:56.548946Z",
     "iopub.status.idle": "2022-06-02T09:22:57.377107Z",
     "shell.execute_reply": "2022-06-02T09:22:57.376175Z",
     "shell.execute_reply.started": "2022-06-02T09:22:56.549174Z"
    },
    "tags": [],
    "pycharm": {
     "name": "#%%\n"
    }
   },
   "outputs": [
    {
     "data": {
      "application/vnd.jupyter.widget-view+json": {
       "model_id": "baf8c43362f24dabb2be9e92fce5a37f",
       "version_major": 2,
       "version_minor": 0
      },
      "text/plain": [
       "VBox()"
      ]
     },
     "metadata": {},
     "output_type": "display_data"
    },
    {
     "data": {
      "application/vnd.jupyter.widget-view+json": {
       "model_id": "",
       "version_major": 2,
       "version_minor": 0
      },
      "text/plain": [
       "FloatProgress(value=0.0, bar_style='info', description='Progress:', layout=Layout(height='25px', width='50%'),…"
      ]
     },
     "metadata": {},
     "output_type": "display_data"
    },
    {
     "name": "stdout",
     "output_type": "stream",
     "text": [
      "+--------------+----+\n",
      "|weeks-on-board|long|\n",
      "+--------------+----+\n",
      "|            23|   1|\n",
      "|            18|   1|\n",
      "|             8|   0|\n",
      "|             8|   0|\n",
      "|            32|   1|\n",
      "+--------------+----+\n",
      "only showing top 5 rows"
     ]
    }
   ],
   "source": [
    "# Check to make sure new column is capturing star_rating correctly\n",
    "data[['weeks-on-board', 'long']].show(5)"
   ]
  },
  {
   "cell_type": "code",
   "execution_count": 12,
   "id": "f877d3ff-8b6b-4ff0-bd9d-524c7cb8bd0a",
   "metadata": {
    "execution": {
     "iopub.execute_input": "2022-06-02T09:22:57.378741Z",
     "iopub.status.busy": "2022-06-02T09:22:57.378476Z",
     "iopub.status.idle": "2022-06-02T09:22:58.229147Z",
     "shell.execute_reply": "2022-06-02T09:22:58.228435Z",
     "shell.execute_reply.started": "2022-06-02T09:22:57.378705Z"
    },
    "tags": [],
    "pycharm": {
     "name": "#%%\n"
    }
   },
   "outputs": [
    {
     "data": {
      "application/vnd.jupyter.widget-view+json": {
       "model_id": "828c574447b5442a92b0dc3f7a67cb51",
       "version_major": 2,
       "version_minor": 0
      },
      "text/plain": [
       "VBox()"
      ]
     },
     "metadata": {},
     "output_type": "display_data"
    },
    {
     "data": {
      "application/vnd.jupyter.widget-view+json": {
       "model_id": "",
       "version_major": 2,
       "version_minor": 0
      },
      "text/plain": [
       "FloatProgress(value=0.0, bar_style='info', description='Progress:', layout=Layout(height='25px', width='50%'),…"
      ]
     },
     "metadata": {},
     "output_type": "display_data"
    },
    {
     "name": "stdout",
     "output_type": "stream",
     "text": [
      "Total Columns: 6\n",
      "Total Rows: 5056\n",
      "root\n",
      " |-- Year: integer (nullable = true)\n",
      " |-- Artist: string (nullable = true)\n",
      " |-- song_name: string (nullable = true)\n",
      " |-- further_clean_text: string (nullable = true)\n",
      " |-- weeks-on-board: integer (nullable = true)\n",
      " |-- long: integer (nullable = true)"
     ]
    }
   ],
   "source": [
    "print('Total Columns: %d' % len(data.dtypes))\n",
    "print('Total Rows: %d' % data.count())\n",
    "data.printSchema()"
   ]
  },
  {
   "cell_type": "code",
   "execution_count": 13,
   "id": "2ec76bec-607b-42e6-a5f6-7f2bd1968c91",
   "metadata": {
    "execution": {
     "iopub.execute_input": "2022-06-02T09:22:58.230386Z",
     "iopub.status.busy": "2022-06-02T09:22:58.230149Z",
     "iopub.status.idle": "2022-06-02T09:22:59.159151Z",
     "shell.execute_reply": "2022-06-02T09:22:59.157246Z",
     "shell.execute_reply.started": "2022-06-02T09:22:58.230351Z"
    },
    "tags": [],
    "pycharm": {
     "name": "#%%\n"
    }
   },
   "outputs": [
    {
     "data": {
      "application/vnd.jupyter.widget-view+json": {
       "model_id": "6ff5837aa93843fcaa28a043a657146f",
       "version_major": 2,
       "version_minor": 0
      },
      "text/plain": [
       "VBox()"
      ]
     },
     "metadata": {},
     "output_type": "display_data"
    },
    {
     "data": {
      "application/vnd.jupyter.widget-view+json": {
       "model_id": "",
       "version_major": 2,
       "version_minor": 0
      },
      "text/plain": [
       "FloatProgress(value=0.0, bar_style='info', description='Progress:', layout=Layout(height='25px', width='50%'),…"
      ]
     },
     "metadata": {},
     "output_type": "display_data"
    }
   ],
   "source": [
    "from pyspark.ml import Pipeline, PipelineModel\n",
    "from pyspark.sql.functions import *\n",
    "from pyspark.sql import SparkSession\n",
    "from pyspark.sql.types import StructType, StructField, IntegerType, StringType\n",
    "import sparknlp\n",
    "from sparknlp.pretrained import PretrainedPipeline\n",
    "from sparknlp.annotator import *\n",
    "from sparknlp.common import RegexRule\n",
    "from sparknlp.base import *"
   ]
  },
  {
   "cell_type": "markdown",
   "id": "7bf2a335-c19c-44be-8768-e5f0da53bee5",
   "metadata": {
    "pycharm": {
     "name": "#%% md\n"
    }
   },
   "source": [
    "## Feature Engineering"
   ]
  },
  {
   "cell_type": "code",
   "execution_count": 14,
   "id": "a780261a-b529-4844-8f9f-48ba90046762",
   "metadata": {
    "execution": {
     "iopub.execute_input": "2022-06-02T09:22:59.160671Z",
     "iopub.status.busy": "2022-06-02T09:22:59.160346Z",
     "iopub.status.idle": "2022-06-02T09:22:59.506641Z",
     "shell.execute_reply": "2022-06-02T09:22:59.505825Z",
     "shell.execute_reply.started": "2022-06-02T09:22:59.160633Z"
    },
    "tags": [],
    "pycharm": {
     "name": "#%%\n"
    }
   },
   "outputs": [
    {
     "data": {
      "application/vnd.jupyter.widget-view+json": {
       "model_id": "5a799f130f634ca5a1398e5889ad8e93",
       "version_major": 2,
       "version_minor": 0
      },
      "text/plain": [
       "VBox()"
      ]
     },
     "metadata": {},
     "output_type": "display_data"
    },
    {
     "data": {
      "application/vnd.jupyter.widget-view+json": {
       "model_id": "",
       "version_major": 2,
       "version_minor": 0
      },
      "text/plain": [
       "FloatProgress(value=0.0, bar_style='info', description='Progress:', layout=Layout(height='25px', width='50%'),…"
      ]
     },
     "metadata": {},
     "output_type": "display_data"
    }
   ],
   "source": [
    "from pyspark.ml.feature import CountVectorizer\n",
    "\n",
    "cv = CountVectorizer(inputCol=\"further_clean_text\", outputCol=\"features\", vocabSize=3, minDF=2.0)"
   ]
  },
  {
   "cell_type": "code",
   "execution_count": 15,
   "id": "2ab4e6ea-8ca1-47bc-95a4-f658b5dd3242",
   "metadata": {
    "execution": {
     "iopub.execute_input": "2022-06-02T09:22:59.522052Z",
     "iopub.status.busy": "2022-06-02T09:22:59.521768Z",
     "iopub.status.idle": "2022-06-02T09:22:59.802233Z",
     "shell.execute_reply": "2022-06-02T09:22:59.801173Z",
     "shell.execute_reply.started": "2022-06-02T09:22:59.522014Z"
    },
    "tags": [],
    "pycharm": {
     "name": "#%%\n"
    }
   },
   "outputs": [
    {
     "data": {
      "application/vnd.jupyter.widget-view+json": {
       "model_id": "d4c5c1ba178b4c3fb8b663cb75bd5919",
       "version_major": 2,
       "version_minor": 0
      },
      "text/plain": [
       "VBox()"
      ]
     },
     "metadata": {},
     "output_type": "display_data"
    },
    {
     "data": {
      "application/vnd.jupyter.widget-view+json": {
       "model_id": "",
       "version_major": 2,
       "version_minor": 0
      },
      "text/plain": [
       "FloatProgress(value=0.0, bar_style='info', description='Progress:', layout=Layout(height='25px', width='50%'),…"
      ]
     },
     "metadata": {},
     "output_type": "display_data"
    }
   ],
   "source": [
    "import pyspark.sql.functions as F\n",
    "\n",
    "data = data.withColumn('lyrics_tk', F.split('further_clean_text', ' '))\n",
    "data = data.withColumn('name_tk', F.split('song_name', ' '))\n",
    "data = data.withColumn('lyrics_len', F.length('further_clean_text'))\n",
    "data = data.withColumn('name_len', F.length('song_name'))"
   ]
  },
  {
   "cell_type": "code",
   "execution_count": 16,
   "id": "470cc3d4-8d86-4194-84ba-74f5d6258bb4",
   "metadata": {
    "execution": {
     "iopub.execute_input": "2022-06-02T09:22:59.803832Z",
     "iopub.status.busy": "2022-06-02T09:22:59.803363Z",
     "iopub.status.idle": "2022-06-02T09:23:11.230547Z",
     "shell.execute_reply": "2022-06-02T09:23:11.229523Z",
     "shell.execute_reply.started": "2022-06-02T09:22:59.803794Z"
    },
    "tags": [],
    "pycharm": {
     "name": "#%%\n"
    }
   },
   "outputs": [
    {
     "data": {
      "application/vnd.jupyter.widget-view+json": {
       "model_id": "6e7885c3952b4e7cb1e4c765433ccc52",
       "version_major": 2,
       "version_minor": 0
      },
      "text/plain": [
       "VBox()"
      ]
     },
     "metadata": {},
     "output_type": "display_data"
    },
    {
     "data": {
      "application/vnd.jupyter.widget-view+json": {
       "model_id": "",
       "version_major": 2,
       "version_minor": 0
      },
      "text/plain": [
       "FloatProgress(value=0.0, bar_style='info', description='Progress:', layout=Layout(height='25px', width='50%'),…"
      ]
     },
     "metadata": {},
     "output_type": "display_data"
    },
    {
     "name": "stdout",
     "output_type": "stream",
     "text": [
      "sentiment_vivekn download started this may take some time.\n",
      "Approximate size to download 873.6 KB\n",
      "[OK!]"
     ]
    }
   ],
   "source": [
    "# pipline\n",
    "\n",
    "document = DocumentAssembler() \\\n",
    "    .setInputCol(\"further_clean_text\") \\\n",
    "    .setOutputCol(\"document\")\n",
    "\n",
    "token = Tokenizer() \\\n",
    "    .setInputCols([\"document\"]) \\\n",
    "    .setOutputCol(\"token\")\n",
    "\n",
    "normalizer = Normalizer() \\\n",
    "    .setInputCols([\"token\"]) \\\n",
    "    .setOutputCol(\"normal\")\n",
    "\n",
    "vivekn =  ViveknSentimentModel.pretrained() \\\n",
    "    .setInputCols([\"document\", \"normal\"]) \\\n",
    "    .setOutputCol(\"result_sentiment\")\n",
    "\n",
    "finisher = Finisher() \\\n",
    "    .setInputCols([\"result_sentiment\"]) \\\n",
    "    .setOutputCols(\"final_sentiment\")\n",
    "\n",
    "pipeline = Pipeline().setStages([document, token, normalizer, vivekn, finisher])"
   ]
  },
  {
   "cell_type": "code",
   "execution_count": 17,
   "id": "fbc2115c-b5ef-46e2-b693-30b127597397",
   "metadata": {
    "execution": {
     "iopub.execute_input": "2022-06-02T09:23:11.232230Z",
     "iopub.status.busy": "2022-06-02T09:23:11.231935Z",
     "iopub.status.idle": "2022-06-02T09:23:14.548398Z",
     "shell.execute_reply": "2022-06-02T09:23:14.547626Z",
     "shell.execute_reply.started": "2022-06-02T09:23:11.232191Z"
    },
    "tags": [],
    "pycharm": {
     "name": "#%%\n"
    }
   },
   "outputs": [
    {
     "data": {
      "application/vnd.jupyter.widget-view+json": {
       "model_id": "5db826afa5664cc0a2d49ad725057033",
       "version_major": 2,
       "version_minor": 0
      },
      "text/plain": [
       "VBox()"
      ]
     },
     "metadata": {},
     "output_type": "display_data"
    },
    {
     "data": {
      "application/vnd.jupyter.widget-view+json": {
       "model_id": "",
       "version_major": 2,
       "version_minor": 0
      },
      "text/plain": [
       "FloatProgress(value=0.0, bar_style='info', description='Progress:', layout=Layout(height='25px', width='50%'),…"
      ]
     },
     "metadata": {},
     "output_type": "display_data"
    },
    {
     "name": "stdout",
     "output_type": "stream",
     "text": [
      "+---------------+\n",
      "|final_sentiment|\n",
      "+---------------+\n",
      "|[negative]     |\n",
      "|[positive]     |\n",
      "|[negative]     |\n",
      "|[positive]     |\n",
      "|[positive]     |\n",
      "|[positive]     |\n",
      "|[negative]     |\n",
      "|[positive]     |\n",
      "|[positive]     |\n",
      "|[negative]     |\n",
      "|[negative]     |\n",
      "|[positive]     |\n",
      "|[positive]     |\n",
      "|[positive]     |\n",
      "|[negative]     |\n",
      "|[positive]     |\n",
      "|[negative]     |\n",
      "|[positive]     |\n",
      "|[positive]     |\n",
      "|[positive]     |\n",
      "+---------------+\n",
      "only showing top 20 rows"
     ]
    }
   ],
   "source": [
    "# now let's fit the model\n",
    "\n",
    "pipelineModel = pipeline.fit(data)\n",
    "result = pipelineModel.transform(data)\n",
    "\n",
    "result.select(\"final_sentiment\").show(truncate=False)"
   ]
  },
  {
   "cell_type": "code",
   "execution_count": 18,
   "id": "6219f45f-aadf-4a28-ab8f-786041217304",
   "metadata": {
    "execution": {
     "iopub.execute_input": "2022-06-02T09:23:14.551599Z",
     "iopub.status.busy": "2022-06-02T09:23:14.551412Z",
     "iopub.status.idle": "2022-06-02T09:23:14.630902Z",
     "shell.execute_reply": "2022-06-02T09:23:14.630279Z",
     "shell.execute_reply.started": "2022-06-02T09:23:14.551576Z"
    },
    "tags": [],
    "pycharm": {
     "name": "#%%\n"
    }
   },
   "outputs": [
    {
     "data": {
      "application/vnd.jupyter.widget-view+json": {
       "model_id": "224e6982aefc43a6b92f6f7f83a20caf",
       "version_major": 2,
       "version_minor": 0
      },
      "text/plain": [
       "VBox()"
      ]
     },
     "metadata": {},
     "output_type": "display_data"
    },
    {
     "data": {
      "application/vnd.jupyter.widget-view+json": {
       "model_id": "",
       "version_major": 2,
       "version_minor": 0
      },
      "text/plain": [
       "FloatProgress(value=0.0, bar_style='info', description='Progress:', layout=Layout(height='25px', width='50%'),…"
      ]
     },
     "metadata": {},
     "output_type": "display_data"
    }
   ],
   "source": [
    "data = result"
   ]
  },
  {
   "cell_type": "code",
   "execution_count": 19,
   "id": "41535bd7-2002-4237-8574-2343b0da4fa7",
   "metadata": {
    "execution": {
     "iopub.execute_input": "2022-06-02T09:23:14.632388Z",
     "iopub.status.busy": "2022-06-02T09:23:14.632133Z",
     "iopub.status.idle": "2022-06-02T09:23:16.938953Z",
     "shell.execute_reply": "2022-06-02T09:23:16.938217Z",
     "shell.execute_reply.started": "2022-06-02T09:23:14.632353Z"
    },
    "tags": [],
    "pycharm": {
     "name": "#%%\n"
    }
   },
   "outputs": [
    {
     "data": {
      "application/vnd.jupyter.widget-view+json": {
       "model_id": "18994f9388db4a14b1492a22acf0df90",
       "version_major": 2,
       "version_minor": 0
      },
      "text/plain": [
       "VBox()"
      ]
     },
     "metadata": {},
     "output_type": "display_data"
    },
    {
     "data": {
      "application/vnd.jupyter.widget-view+json": {
       "model_id": "",
       "version_major": 2,
       "version_minor": 0
      },
      "text/plain": [
       "FloatProgress(value=0.0, bar_style='info', description='Progress:', layout=Layout(height='25px', width='50%'),…"
      ]
     },
     "metadata": {},
     "output_type": "display_data"
    },
    {
     "name": "stdout",
     "output_type": "stream",
     "text": [
      "+------------+\n",
      "|senti_binary|\n",
      "+------------+\n",
      "|0           |\n",
      "|1           |\n",
      "|0           |\n",
      "|1           |\n",
      "|1           |\n",
      "|1           |\n",
      "|0           |\n",
      "|1           |\n",
      "|1           |\n",
      "|0           |\n",
      "|0           |\n",
      "|1           |\n",
      "|1           |\n",
      "|1           |\n",
      "|0           |\n",
      "|1           |\n",
      "|0           |\n",
      "|1           |\n",
      "|1           |\n",
      "|1           |\n",
      "+------------+\n",
      "only showing top 20 rows"
     ]
    }
   ],
   "source": [
    "\n",
    "# now let's convert it to a binary vector\n",
    "\n",
    "data = data.withColumn(\"senti_binary\", (data.final_sentiment[0] == 'positive').cast(\"integer\"))\n",
    "data[[\"senti_binary\"]].show(truncate=False)"
   ]
  },
  {
   "cell_type": "code",
   "execution_count": 20,
   "id": "c2b1c1cd-0a0b-40d4-b357-6165555aa9b0",
   "metadata": {
    "execution": {
     "iopub.execute_input": "2022-06-02T09:23:16.940063Z",
     "iopub.status.busy": "2022-06-02T09:23:16.939888Z",
     "iopub.status.idle": "2022-06-02T09:23:17.776220Z",
     "shell.execute_reply": "2022-06-02T09:23:17.775342Z",
     "shell.execute_reply.started": "2022-06-02T09:23:16.940042Z"
    },
    "tags": [],
    "pycharm": {
     "name": "#%%\n"
    }
   },
   "outputs": [
    {
     "data": {
      "application/vnd.jupyter.widget-view+json": {
       "model_id": "ccdd3fa0b4eb4eb6b3ded1a5624fbab5",
       "version_major": 2,
       "version_minor": 0
      },
      "text/plain": [
       "VBox()"
      ]
     },
     "metadata": {},
     "output_type": "display_data"
    },
    {
     "data": {
      "application/vnd.jupyter.widget-view+json": {
       "model_id": "",
       "version_major": 2,
       "version_minor": 0
      },
      "text/plain": [
       "FloatProgress(value=0.0, bar_style='info', description='Progress:', layout=Layout(height='25px', width='50%'),…"
      ]
     },
     "metadata": {},
     "output_type": "display_data"
    },
    {
     "name": "stdout",
     "output_type": "stream",
     "text": [
      "Total Columns: 12\n",
      "Total Rows: 5056\n",
      "root\n",
      " |-- Year: integer (nullable = true)\n",
      " |-- Artist: string (nullable = true)\n",
      " |-- song_name: string (nullable = true)\n",
      " |-- further_clean_text: string (nullable = true)\n",
      " |-- weeks-on-board: integer (nullable = true)\n",
      " |-- long: integer (nullable = true)\n",
      " |-- lyrics_tk: array (nullable = true)\n",
      " |    |-- element: string (containsNull = true)\n",
      " |-- name_tk: array (nullable = true)\n",
      " |    |-- element: string (containsNull = true)\n",
      " |-- lyrics_len: integer (nullable = true)\n",
      " |-- name_len: integer (nullable = true)\n",
      " |-- final_sentiment: array (nullable = true)\n",
      " |    |-- element: string (containsNull = true)\n",
      " |-- senti_binary: integer (nullable = true)"
     ]
    }
   ],
   "source": [
    "# let's take a look at data\n",
    "\n",
    "print('Total Columns: %d' % len(data.dtypes))\n",
    "print('Total Rows: %d' % data.count())\n",
    "data.printSchema()"
   ]
  },
  {
   "cell_type": "code",
   "execution_count": 21,
   "id": "50f9de9d-1aba-4a95-a6a7-4ed8f2669c2f",
   "metadata": {
    "execution": {
     "iopub.execute_input": "2022-06-02T09:23:17.780185Z",
     "iopub.status.busy": "2022-06-02T09:23:17.779918Z",
     "iopub.status.idle": "2022-06-02T09:23:23.086081Z",
     "shell.execute_reply": "2022-06-02T09:23:23.085321Z",
     "shell.execute_reply.started": "2022-06-02T09:23:17.780155Z"
    },
    "tags": [],
    "pycharm": {
     "name": "#%%\n"
    }
   },
   "outputs": [
    {
     "data": {
      "application/vnd.jupyter.widget-view+json": {
       "model_id": "68d1de59449d4b238d69eaa9626383c3",
       "version_major": 2,
       "version_minor": 0
      },
      "text/plain": [
       "VBox()"
      ]
     },
     "metadata": {},
     "output_type": "display_data"
    },
    {
     "data": {
      "application/vnd.jupyter.widget-view+json": {
       "model_id": "",
       "version_major": 2,
       "version_minor": 0
      },
      "text/plain": [
       "FloatProgress(value=0.0, bar_style='info', description='Progress:', layout=Layout(height='25px', width='50%'),…"
      ]
     },
     "metadata": {},
     "output_type": "display_data"
    },
    {
     "name": "stdout",
     "output_type": "stream",
     "text": [
      "+--------------------------+\n",
      "|features_ly               |\n",
      "+--------------------------+\n",
      "|(3,[],[])                 |\n",
      "|(3,[0],[6.0])             |\n",
      "|(3,[1,2],[6.0,8.0])       |\n",
      "|(3,[0,1,2],[1.0,4.0,31.0])|\n",
      "|(3,[],[])                 |\n",
      "|(3,[1],[1.0])             |\n",
      "|(3,[0,1,2],[1.0,1.0,1.0]) |\n",
      "|(3,[0,1,2],[1.0,3.0,4.0]) |\n",
      "|(3,[1,2],[1.0,1.0])       |\n",
      "|(3,[1,2],[10.0,1.0])      |\n",
      "|(3,[0,1],[5.0,6.0])       |\n",
      "|(3,[0,1],[2.0,1.0])       |\n",
      "|(3,[1,2],[12.0,5.0])      |\n",
      "|(3,[1,2],[1.0,29.0])      |\n",
      "|(3,[1,2],[1.0,21.0])      |\n",
      "|(3,[1,2],[1.0,7.0])       |\n",
      "|(3,[2],[1.0])             |\n",
      "|(3,[0,2],[9.0,3.0])       |\n",
      "|(3,[0,1],[2.0,2.0])       |\n",
      "|(3,[0,2],[1.0,1.0])       |\n",
      "+--------------------------+\n",
      "only showing top 20 rows"
     ]
    }
   ],
   "source": [
    "cv = CountVectorizer(inputCol=\"lyrics_tk\", outputCol=\"features_ly\", vocabSize=3, minDF=2.0)\n",
    "\n",
    "model = cv.fit(data)\n",
    "result = model.transform(data)\n",
    "result[['features_ly']].show(truncate=False)"
   ]
  },
  {
   "cell_type": "code",
   "execution_count": 22,
   "id": "35351fe1-9c4f-4494-9f4d-6f552ac94d81",
   "metadata": {
    "execution": {
     "iopub.execute_input": "2022-06-02T09:23:23.087671Z",
     "iopub.status.busy": "2022-06-02T09:23:23.087467Z",
     "iopub.status.idle": "2022-06-02T09:23:23.149947Z",
     "shell.execute_reply": "2022-06-02T09:23:23.149374Z",
     "shell.execute_reply.started": "2022-06-02T09:23:23.087640Z"
    },
    "tags": [],
    "pycharm": {
     "name": "#%%\n"
    }
   },
   "outputs": [
    {
     "data": {
      "application/vnd.jupyter.widget-view+json": {
       "model_id": "2ff9a49c67724f448ca598ab4f0ce08b",
       "version_major": 2,
       "version_minor": 0
      },
      "text/plain": [
       "VBox()"
      ]
     },
     "metadata": {},
     "output_type": "display_data"
    },
    {
     "data": {
      "application/vnd.jupyter.widget-view+json": {
       "model_id": "",
       "version_major": 2,
       "version_minor": 0
      },
      "text/plain": [
       "FloatProgress(value=0.0, bar_style='info', description='Progress:', layout=Layout(height='25px', width='50%'),…"
      ]
     },
     "metadata": {},
     "output_type": "display_data"
    }
   ],
   "source": [
    "data = result"
   ]
  },
  {
   "cell_type": "code",
   "execution_count": 23,
   "id": "06676825-9cdc-40d7-ab29-25915e3c73ae",
   "metadata": {
    "execution": {
     "iopub.execute_input": "2022-06-02T09:23:23.150961Z",
     "iopub.status.busy": "2022-06-02T09:23:23.150796Z",
     "iopub.status.idle": "2022-06-02T09:23:24.435589Z",
     "shell.execute_reply": "2022-06-02T09:23:24.434952Z",
     "shell.execute_reply.started": "2022-06-02T09:23:23.150939Z"
    },
    "tags": [],
    "pycharm": {
     "name": "#%%\n"
    }
   },
   "outputs": [
    {
     "data": {
      "application/vnd.jupyter.widget-view+json": {
       "model_id": "11e0ca65671546138affdda94ea00ea4",
       "version_major": 2,
       "version_minor": 0
      },
      "text/plain": [
       "VBox()"
      ]
     },
     "metadata": {},
     "output_type": "display_data"
    },
    {
     "data": {
      "application/vnd.jupyter.widget-view+json": {
       "model_id": "",
       "version_major": 2,
       "version_minor": 0
      },
      "text/plain": [
       "FloatProgress(value=0.0, bar_style='info', description='Progress:', layout=Layout(height='25px', width='50%'),…"
      ]
     },
     "metadata": {},
     "output_type": "display_data"
    },
    {
     "name": "stdout",
     "output_type": "stream",
     "text": [
      "+-------------+\n",
      "|features_nm  |\n",
      "+-------------+\n",
      "|(3,[],[])    |\n",
      "|(3,[],[])    |\n",
      "|(3,[],[])    |\n",
      "|(3,[],[])    |\n",
      "|(3,[],[])    |\n",
      "|(3,[],[])    |\n",
      "|(3,[],[])    |\n",
      "|(3,[],[])    |\n",
      "|(3,[],[])    |\n",
      "|(3,[],[])    |\n",
      "|(3,[],[])    |\n",
      "|(3,[0],[1.0])|\n",
      "|(3,[],[])    |\n",
      "|(3,[],[])    |\n",
      "|(3,[],[])    |\n",
      "|(3,[],[])    |\n",
      "|(3,[],[])    |\n",
      "|(3,[],[])    |\n",
      "|(3,[],[])    |\n",
      "|(3,[],[])    |\n",
      "+-------------+\n",
      "only showing top 20 rows"
     ]
    }
   ],
   "source": [
    "cv = CountVectorizer(inputCol=\"name_tk\", outputCol=\"features_nm\", vocabSize=3, minDF=2.0)\n",
    "\n",
    "model = cv.fit(data)\n",
    "result = model.transform(data)\n",
    "result[['features_nm']].show(truncate=False)"
   ]
  },
  {
   "cell_type": "code",
   "execution_count": 24,
   "id": "380f3db3-e6be-465b-a1d7-3f1b80c39633",
   "metadata": {
    "execution": {
     "iopub.execute_input": "2022-06-02T09:23:24.436764Z",
     "iopub.status.busy": "2022-06-02T09:23:24.436574Z",
     "iopub.status.idle": "2022-06-02T09:23:24.497738Z",
     "shell.execute_reply": "2022-06-02T09:23:24.497167Z",
     "shell.execute_reply.started": "2022-06-02T09:23:24.436737Z"
    },
    "tags": [],
    "pycharm": {
     "name": "#%%\n"
    }
   },
   "outputs": [
    {
     "data": {
      "application/vnd.jupyter.widget-view+json": {
       "model_id": "2ffb6b78eb0c4d1ba52f926aad37f4f0",
       "version_major": 2,
       "version_minor": 0
      },
      "text/plain": [
       "VBox()"
      ]
     },
     "metadata": {},
     "output_type": "display_data"
    },
    {
     "data": {
      "application/vnd.jupyter.widget-view+json": {
       "model_id": "",
       "version_major": 2,
       "version_minor": 0
      },
      "text/plain": [
       "FloatProgress(value=0.0, bar_style='info', description='Progress:', layout=Layout(height='25px', width='50%'),…"
      ]
     },
     "metadata": {},
     "output_type": "display_data"
    }
   ],
   "source": [
    "data = result"
   ]
  },
  {
   "cell_type": "code",
   "execution_count": 25,
   "id": "ef56c6d1-6cf8-42e6-ae6e-fcf20c0022b9",
   "metadata": {
    "execution": {
     "iopub.execute_input": "2022-06-02T09:23:24.499059Z",
     "iopub.status.busy": "2022-06-02T09:23:24.498790Z",
     "iopub.status.idle": "2022-06-02T09:23:24.766523Z",
     "shell.execute_reply": "2022-06-02T09:23:24.765908Z",
     "shell.execute_reply.started": "2022-06-02T09:23:24.499021Z"
    },
    "tags": [],
    "pycharm": {
     "name": "#%%\n"
    }
   },
   "outputs": [
    {
     "data": {
      "application/vnd.jupyter.widget-view+json": {
       "model_id": "cb02e681441b46a79b5dba1cb165e7cb",
       "version_major": 2,
       "version_minor": 0
      },
      "text/plain": [
       "VBox()"
      ]
     },
     "metadata": {},
     "output_type": "display_data"
    },
    {
     "data": {
      "application/vnd.jupyter.widget-view+json": {
       "model_id": "",
       "version_major": 2,
       "version_minor": 0
      },
      "text/plain": [
       "FloatProgress(value=0.0, bar_style='info', description='Progress:', layout=Layout(height='25px', width='50%'),…"
      ]
     },
     "metadata": {},
     "output_type": "display_data"
    }
   ],
   "source": [
    "data = data.na.drop(\"any\")"
   ]
  },
  {
   "cell_type": "code",
   "execution_count": 26,
   "id": "0558db9c-dfce-4b59-8c87-c1178dbcda41",
   "metadata": {
    "execution": {
     "iopub.execute_input": "2022-06-02T09:23:24.767564Z",
     "iopub.status.busy": "2022-06-02T09:23:24.767391Z",
     "iopub.status.idle": "2022-06-02T09:23:30.097132Z",
     "shell.execute_reply": "2022-06-02T09:23:30.096277Z",
     "shell.execute_reply.started": "2022-06-02T09:23:24.767542Z"
    },
    "tags": [],
    "pycharm": {
     "name": "#%%\n"
    }
   },
   "outputs": [
    {
     "data": {
      "application/vnd.jupyter.widget-view+json": {
       "model_id": "d91868904acd4a3999dd02d9747d113f",
       "version_major": 2,
       "version_minor": 0
      },
      "text/plain": [
       "VBox()"
      ]
     },
     "metadata": {},
     "output_type": "display_data"
    },
    {
     "data": {
      "application/vnd.jupyter.widget-view+json": {
       "model_id": "",
       "version_major": 2,
       "version_minor": 0
      },
      "text/plain": [
       "FloatProgress(value=0.0, bar_style='info', description='Progress:', layout=Layout(height='25px', width='50%'),…"
      ]
     },
     "metadata": {},
     "output_type": "display_data"
    },
    {
     "name": "stdout",
     "output_type": "stream",
     "text": [
      "Total Columns: 14\n",
      "Total Rows: 5052\n",
      "root\n",
      " |-- Year: integer (nullable = true)\n",
      " |-- Artist: string (nullable = true)\n",
      " |-- song_name: string (nullable = true)\n",
      " |-- further_clean_text: string (nullable = true)\n",
      " |-- weeks-on-board: integer (nullable = true)\n",
      " |-- long: integer (nullable = true)\n",
      " |-- lyrics_tk: array (nullable = true)\n",
      " |    |-- element: string (containsNull = true)\n",
      " |-- name_tk: array (nullable = true)\n",
      " |    |-- element: string (containsNull = true)\n",
      " |-- lyrics_len: integer (nullable = true)\n",
      " |-- name_len: integer (nullable = true)\n",
      " |-- final_sentiment: array (nullable = true)\n",
      " |    |-- element: string (containsNull = true)\n",
      " |-- senti_binary: integer (nullable = true)\n",
      " |-- features_ly: vector (nullable = true)\n",
      " |-- features_nm: vector (nullable = true)"
     ]
    }
   ],
   "source": [
    "# let's take a look at data\n",
    "\n",
    "print('Total Columns: %d' % len(data.dtypes))\n",
    "print('Total Rows: %d' % data.count())\n",
    "data.printSchema()"
   ]
  },
  {
   "cell_type": "markdown",
   "id": "d5a7c297-8817-4db7-adfb-fc2e7113fc1c",
   "metadata": {
    "execution": {
     "iopub.execute_input": "2022-06-02T07:33:19.970491Z",
     "iopub.status.busy": "2022-06-02T07:33:19.970263Z",
     "iopub.status.idle": "2022-06-02T07:33:20.036183Z",
     "shell.execute_reply": "2022-06-02T07:33:20.035089Z",
     "shell.execute_reply.started": "2022-06-02T07:33:19.970466Z"
    },
    "tags": [],
    "pycharm": {
     "name": "#%% md\n"
    }
   },
   "source": [
    "## Build the model"
   ]
  },
  {
   "cell_type": "code",
   "execution_count": 27,
   "id": "3eebf6e7-336a-455f-9611-3c90bbfbfd28",
   "metadata": {
    "execution": {
     "iopub.execute_input": "2022-06-02T09:23:30.098779Z",
     "iopub.status.busy": "2022-06-02T09:23:30.098488Z",
     "iopub.status.idle": "2022-06-02T09:23:30.366516Z",
     "shell.execute_reply": "2022-06-02T09:23:30.365801Z",
     "shell.execute_reply.started": "2022-06-02T09:23:30.098741Z"
    },
    "tags": [],
    "pycharm": {
     "name": "#%%\n"
    }
   },
   "outputs": [
    {
     "data": {
      "application/vnd.jupyter.widget-view+json": {
       "model_id": "de32acfee81b4bb0b16db3e81f73a148",
       "version_major": 2,
       "version_minor": 0
      },
      "text/plain": [
       "VBox()"
      ]
     },
     "metadata": {},
     "output_type": "display_data"
    },
    {
     "data": {
      "application/vnd.jupyter.widget-view+json": {
       "model_id": "",
       "version_major": 2,
       "version_minor": 0
      },
      "text/plain": [
       "FloatProgress(value=0.0, bar_style='info', description='Progress:', layout=Layout(height='25px', width='50%'),…"
      ]
     },
     "metadata": {},
     "output_type": "display_data"
    }
   ],
   "source": [
    "from pyspark.ml.feature import VectorAssembler\n",
    "\n",
    "features = ['Year', 'lyrics_len', 'name_len', 'senti_binary', 'features_ly','features_nm']\n",
    "assembler = VectorAssembler(inputCols=features, outputCol='features', handleInvalid=\"skip\") # skip any null value"
   ]
  },
  {
   "cell_type": "code",
   "execution_count": 28,
   "id": "63815fcc-263d-4f37-aa44-87efccddfa6f",
   "metadata": {
    "execution": {
     "iopub.execute_input": "2022-06-02T09:23:30.367647Z",
     "iopub.status.busy": "2022-06-02T09:23:30.367457Z",
     "iopub.status.idle": "2022-06-02T09:23:30.637274Z",
     "shell.execute_reply": "2022-06-02T09:23:30.636474Z",
     "shell.execute_reply.started": "2022-06-02T09:23:30.367624Z"
    },
    "tags": [],
    "pycharm": {
     "name": "#%%\n"
    }
   },
   "outputs": [
    {
     "data": {
      "application/vnd.jupyter.widget-view+json": {
       "model_id": "fe04710636cf4d859bf425b833125f68",
       "version_major": 2,
       "version_minor": 0
      },
      "text/plain": [
       "VBox()"
      ]
     },
     "metadata": {},
     "output_type": "display_data"
    },
    {
     "data": {
      "application/vnd.jupyter.widget-view+json": {
       "model_id": "",
       "version_major": 2,
       "version_minor": 0
      },
      "text/plain": [
       "FloatProgress(value=0.0, bar_style='info', description='Progress:', layout=Layout(height='25px', width='50%'),…"
      ]
     },
     "metadata": {},
     "output_type": "display_data"
    }
   ],
   "source": [
    "# build a baseline model\n",
    "\n",
    "from pyspark.ml.classification import LogisticRegression\n",
    "\n",
    "lr = LogisticRegression(featuresCol='features', labelCol='long')\n",
    "\n",
    "# Pipline\n",
    "ml_pipline = Pipeline(stages =  [assembler])"
   ]
  },
  {
   "cell_type": "code",
   "execution_count": 29,
   "id": "10b063c8-014f-463c-bfbe-32396192c029",
   "metadata": {
    "execution": {
     "iopub.execute_input": "2022-06-02T09:23:30.638708Z",
     "iopub.status.busy": "2022-06-02T09:23:30.638439Z",
     "iopub.status.idle": "2022-06-02T09:23:30.917152Z",
     "shell.execute_reply": "2022-06-02T09:23:30.916454Z",
     "shell.execute_reply.started": "2022-06-02T09:23:30.638673Z"
    },
    "tags": [],
    "pycharm": {
     "name": "#%%\n"
    }
   },
   "outputs": [
    {
     "data": {
      "application/vnd.jupyter.widget-view+json": {
       "model_id": "1f5854b8ca2841abbf07f81a908d9d6d",
       "version_major": 2,
       "version_minor": 0
      },
      "text/plain": [
       "VBox()"
      ]
     },
     "metadata": {},
     "output_type": "display_data"
    },
    {
     "data": {
      "application/vnd.jupyter.widget-view+json": {
       "model_id": "",
       "version_major": 2,
       "version_minor": 0
      },
      "text/plain": [
       "FloatProgress(value=0.0, bar_style='info', description='Progress:', layout=Layout(height='25px', width='50%'),…"
      ]
     },
     "metadata": {},
     "output_type": "display_data"
    }
   ],
   "source": [
    "data = ml_pipline.fit(data).transform(data)"
   ]
  },
  {
   "cell_type": "code",
   "execution_count": 30,
   "id": "4db4cef1-b225-4e62-8745-75ff6b325ef3",
   "metadata": {
    "execution": {
     "iopub.execute_input": "2022-06-02T09:23:30.918186Z",
     "iopub.status.busy": "2022-06-02T09:23:30.918000Z",
     "iopub.status.idle": "2022-06-02T09:23:30.979508Z",
     "shell.execute_reply": "2022-06-02T09:23:30.978911Z",
     "shell.execute_reply.started": "2022-06-02T09:23:30.918163Z"
    },
    "tags": [],
    "pycharm": {
     "name": "#%%\n"
    }
   },
   "outputs": [
    {
     "data": {
      "application/vnd.jupyter.widget-view+json": {
       "model_id": "3a7e0c36b9d4479883d933ca3c2dc549",
       "version_major": 2,
       "version_minor": 0
      },
      "text/plain": [
       "VBox()"
      ]
     },
     "metadata": {},
     "output_type": "display_data"
    },
    {
     "data": {
      "application/vnd.jupyter.widget-view+json": {
       "model_id": "",
       "version_major": 2,
       "version_minor": 0
      },
      "text/plain": [
       "FloatProgress(value=0.0, bar_style='info', description='Progress:', layout=Layout(height='25px', width='50%'),…"
      ]
     },
     "metadata": {},
     "output_type": "display_data"
    }
   ],
   "source": [
    "from pyspark.ml.evaluation import BinaryClassificationEvaluator\n",
    "\n",
    "\n",
    "metrics = BinaryClassificationEvaluator(labelCol='long', metricName='areaUnderROC')"
   ]
  },
  {
   "cell_type": "code",
   "execution_count": 31,
   "id": "a0088adc-d575-4eb6-ace1-b4a91edcad23",
   "metadata": {
    "execution": {
     "iopub.execute_input": "2022-06-02T09:23:30.980634Z",
     "iopub.status.busy": "2022-06-02T09:23:30.980432Z",
     "iopub.status.idle": "2022-06-02T09:23:31.253167Z",
     "shell.execute_reply": "2022-06-02T09:23:31.252219Z",
     "shell.execute_reply.started": "2022-06-02T09:23:30.980611Z"
    },
    "tags": [],
    "pycharm": {
     "name": "#%%\n"
    }
   },
   "outputs": [
    {
     "data": {
      "application/vnd.jupyter.widget-view+json": {
       "model_id": "eda83f25dcb14d0ca15da0506ea24673",
       "version_major": 2,
       "version_minor": 0
      },
      "text/plain": [
       "VBox()"
      ]
     },
     "metadata": {},
     "output_type": "display_data"
    },
    {
     "data": {
      "application/vnd.jupyter.widget-view+json": {
       "model_id": "",
       "version_major": 2,
       "version_minor": 0
      },
      "text/plain": [
       "FloatProgress(value=0.0, bar_style='info', description='Progress:', layout=Layout(height='25px', width='50%'),…"
      ]
     },
     "metadata": {},
     "output_type": "display_data"
    }
   ],
   "source": [
    "# Split data in to train and test set\n",
    "\n",
    "train, test = data.randomSplit([0.8, 0.2])"
   ]
  },
  {
   "cell_type": "code",
   "execution_count": 32,
   "id": "41f06102-ed24-4bc3-9be4-d32cd20e3b75",
   "metadata": {
    "execution": {
     "iopub.execute_input": "2022-06-02T09:23:31.254409Z",
     "iopub.status.busy": "2022-06-02T09:23:31.254217Z",
     "iopub.status.idle": "2022-06-02T09:24:02.283314Z",
     "shell.execute_reply": "2022-06-02T09:24:02.233720Z",
     "shell.execute_reply.started": "2022-06-02T09:23:31.254385Z"
    },
    "tags": [],
    "pycharm": {
     "name": "#%%\n"
    }
   },
   "outputs": [
    {
     "data": {
      "application/vnd.jupyter.widget-view+json": {
       "model_id": "d7aa72f5b94042f5962af93a10a4c39b",
       "version_major": 2,
       "version_minor": 0
      },
      "text/plain": [
       "VBox()"
      ]
     },
     "metadata": {},
     "output_type": "display_data"
    },
    {
     "data": {
      "application/vnd.jupyter.widget-view+json": {
       "model_id": "",
       "version_major": 2,
       "version_minor": 0
      },
      "text/plain": [
       "FloatProgress(value=0.0, bar_style='info', description='Progress:', layout=Layout(height='25px', width='50%'),…"
      ]
     },
     "metadata": {},
     "output_type": "display_data"
    }
   ],
   "source": [
    "model = lr.fit(train)"
   ]
  },
  {
   "cell_type": "markdown",
   "id": "bceb1119-e983-4af1-9513-2fc3a1470b72",
   "metadata": {
    "pycharm": {
     "name": "#%% md\n"
    }
   },
   "source": [
    "## Performance Report"
   ]
  },
  {
   "cell_type": "code",
   "execution_count": 48,
   "id": "76e09479-7bb0-4dd4-9505-07a8769d9bbf",
   "metadata": {
    "execution": {
     "iopub.execute_input": "2022-06-02T09:34:45.770552Z",
     "iopub.status.busy": "2022-06-02T09:34:45.770317Z",
     "iopub.status.idle": "2022-06-02T09:34:55.075961Z",
     "shell.execute_reply": "2022-06-02T09:34:55.075341Z",
     "shell.execute_reply.started": "2022-06-02T09:34:45.770528Z"
    },
    "tags": [],
    "pycharm": {
     "name": "#%%\n"
    }
   },
   "outputs": [
    {
     "data": {
      "application/vnd.jupyter.widget-view+json": {
       "model_id": "3da29e4cda69481aa1d5d78efbddf419",
       "version_major": 2,
       "version_minor": 0
      },
      "text/plain": [
       "VBox()"
      ]
     },
     "metadata": {},
     "output_type": "display_data"
    },
    {
     "data": {
      "application/vnd.jupyter.widget-view+json": {
       "model_id": "",
       "version_major": 2,
       "version_minor": 0
      },
      "text/plain": [
       "FloatProgress(value=0.0, bar_style='info', description='Progress:', layout=Layout(height='25px', width='50%'),…"
      ]
     },
     "metadata": {},
     "output_type": "display_data"
    },
    {
     "data": {
      "image/png": "[encoded data removed]",
      "text/plain": [
       "<IPython.core.display.Image object>"
      ]
     },
     "metadata": {},
     "output_type": "display_data"
    }
   ],
   "source": [
    "# collect the RPT and TPR\n",
    "\n",
    "evaluationSummary = model.evaluate(test)\n",
    "FPR = evaluationSummary.roc.select('FPR').collect()\n",
    "TPR = evaluationSummary.roc.select('TPR').collect()\n",
    "\n",
    "\n",
    "# Plot the AUC\n",
    "\n",
    "import matplotlib.pyplot as plt\n",
    "\n",
    "plt.figure(figsize=(4,4))\n",
    "plt.xlabel('FPR')\n",
    "plt.ylabel('TPR')\n",
    "plt.title('AUC')\n",
    "plt.plot([0, 1], [0, 1], 'm--')\n",
    "plt.plot(FPR,TPR)\n",
    "plt.show()\n",
    "\n",
    "%matplot plt"
   ]
  },
  {
   "cell_type": "code",
   "execution_count": 34,
   "id": "2a8bbc47-1c69-495a-b01a-df804f2d07ea",
   "metadata": {
    "execution": {
     "iopub.execute_input": "2022-06-02T09:24:14.110597Z",
     "iopub.status.busy": "2022-06-02T09:24:14.110171Z",
     "iopub.status.idle": "2022-06-02T09:24:26.218681Z",
     "shell.execute_reply": "2022-06-02T09:24:26.191144Z",
     "shell.execute_reply.started": "2022-06-02T09:24:14.110561Z"
    },
    "tags": [],
    "pycharm": {
     "name": "#%%\n"
    }
   },
   "outputs": [
    {
     "data": {
      "application/vnd.jupyter.widget-view+json": {
       "model_id": "72dc712c97f24e32bb671ae7bb16426f",
       "version_major": 2,
       "version_minor": 0
      },
      "text/plain": [
       "VBox()"
      ]
     },
     "metadata": {},
     "output_type": "display_data"
    },
    {
     "data": {
      "application/vnd.jupyter.widget-view+json": {
       "model_id": "",
       "version_major": 2,
       "version_minor": 0
      },
      "text/plain": [
       "FloatProgress(value=0.0, bar_style='info', description='Progress:', layout=Layout(height='25px', width='50%'),…"
      ]
     },
     "metadata": {},
     "output_type": "display_data"
    },
    {
     "name": "stdout",
     "output_type": "stream",
     "text": [
      "0.6478561074235142"
     ]
    }
   ],
   "source": [
    "# get the performance of the best model on test data \n",
    "\n",
    "metrics.evaluate(model.transform(test))"
   ]
  },
  {
   "cell_type": "code",
   "execution_count": 35,
   "id": "9014db6d-e9dd-44c8-aaa0-c8989c1fc654",
   "metadata": {
    "execution": {
     "iopub.execute_input": "2022-06-02T09:24:26.219888Z",
     "iopub.status.busy": "2022-06-02T09:24:26.219669Z",
     "iopub.status.idle": "2022-06-02T09:24:35.578536Z",
     "shell.execute_reply": "2022-06-02T09:24:35.577947Z",
     "shell.execute_reply.started": "2022-06-02T09:24:26.219864Z"
    },
    "tags": [],
    "pycharm": {
     "name": "#%%\n"
    }
   },
   "outputs": [
    {
     "data": {
      "application/vnd.jupyter.widget-view+json": {
       "model_id": "c9d95e47da754d53a1d1367702771489",
       "version_major": 2,
       "version_minor": 0
      },
      "text/plain": [
       "VBox()"
      ]
     },
     "metadata": {},
     "output_type": "display_data"
    },
    {
     "data": {
      "application/vnd.jupyter.widget-view+json": {
       "model_id": "",
       "version_major": 2,
       "version_minor": 0
      },
      "text/plain": [
       "FloatProgress(value=0.0, bar_style='info', description='Progress:', layout=Layout(height='25px', width='50%'),…"
      ]
     },
     "metadata": {},
     "output_type": "display_data"
    },
    {
     "name": "stdout",
     "output_type": "stream",
     "text": [
      "The false positive rate for label 0 is 0.3665024630541872\n",
      "The false positive rate for label 1 is 0.4674674674674675"
     ]
    }
   ],
   "source": [
    "# get the false positive rate by label\n",
    "\n",
    "print(f'The false positive rate for label 0 is {model.summary.falsePositiveRateByLabel[0]}')\n",
    "print(f'The false positive rate for label 1 is {model.summary.falsePositiveRateByLabel[1]}')"
   ]
  },
  {
   "cell_type": "code",
   "execution_count": 36,
   "id": "e558bfe7-c9fe-4b8c-861e-b08088d707af",
   "metadata": {
    "execution": {
     "iopub.execute_input": "2022-06-02T09:24:35.579546Z",
     "iopub.status.busy": "2022-06-02T09:24:35.579370Z",
     "iopub.status.idle": "2022-06-02T09:24:35.652437Z",
     "shell.execute_reply": "2022-06-02T09:24:35.651435Z",
     "shell.execute_reply.started": "2022-06-02T09:24:35.579523Z"
    },
    "tags": [],
    "pycharm": {
     "name": "#%%\n"
    }
   },
   "outputs": [
    {
     "data": {
      "application/vnd.jupyter.widget-view+json": {
       "model_id": "ae0f2143eb224270b6c4a7fcd043cde4",
       "version_major": 2,
       "version_minor": 0
      },
      "text/plain": [
       "VBox()"
      ]
     },
     "metadata": {},
     "output_type": "display_data"
    },
    {
     "data": {
      "application/vnd.jupyter.widget-view+json": {
       "model_id": "",
       "version_major": 2,
       "version_minor": 0
      },
      "text/plain": [
       "FloatProgress(value=0.0, bar_style='info', description='Progress:', layout=Layout(height='25px', width='50%'),…"
      ]
     },
     "metadata": {},
     "output_type": "display_data"
    },
    {
     "name": "stdout",
     "output_type": "stream",
     "text": [
      "The precision for label 0 is 0.588495575221239\n",
      "The precision for label 1 is 0.5792792792792792"
     ]
    }
   ],
   "source": [
    "# get the precision by label\n",
    "\n",
    "print(f'The precision for label 0 is {model.summary.precisionByLabel[0]}')\n",
    "print(f'The precision for label 1 is {model.summary.precisionByLabel[1]}')"
   ]
  },
  {
   "cell_type": "code",
   "execution_count": 49,
   "id": "0f2eb66e-27cb-47a2-a51d-e9f0ecb4bc1a",
   "metadata": {
    "execution": {
     "iopub.execute_input": "2022-06-02T09:40:14.139856Z",
     "iopub.status.busy": "2022-06-02T09:40:14.139590Z",
     "iopub.status.idle": "2022-06-02T09:40:14.415592Z",
     "shell.execute_reply": "2022-06-02T09:40:14.414949Z",
     "shell.execute_reply.started": "2022-06-02T09:40:14.139829Z"
    },
    "tags": [],
    "pycharm": {
     "name": "#%%\n"
    }
   },
   "outputs": [
    {
     "data": {
      "application/vnd.jupyter.widget-view+json": {
       "model_id": "89efdcfdebae411bb1abb827f789d137",
       "version_major": 2,
       "version_minor": 0
      },
      "text/plain": [
       "VBox()"
      ]
     },
     "metadata": {},
     "output_type": "display_data"
    },
    {
     "data": {
      "application/vnd.jupyter.widget-view+json": {
       "model_id": "",
       "version_major": 2,
       "version_minor": 0
      },
      "text/plain": [
       "FloatProgress(value=0.0, bar_style='info', description='Progress:', layout=Layout(height='25px', width='50%'),…"
      ]
     },
     "metadata": {},
     "output_type": "display_data"
    },
    {
     "name": "stdout",
     "output_type": "stream",
     "text": [
      "The recall for label 0 is 0.5325325325325325\n",
      "The recall for label 1 is 0.6334975369458128"
     ]
    }
   ],
   "source": [
    "# get the precision by label\n",
    "\n",
    "print(f'The recall for label 0 is {model.summary.recallByLabel[0]}')\n",
    "print(f'The recall for label 1 is {model.summary.recallByLabel[1]}')"
   ]
  },
  {
   "cell_type": "code",
   "execution_count": null,
   "id": "600a9ee8-5781-4c15-b349-5011fdc162ec",
   "metadata": {
    "pycharm": {
     "name": "#%%\n"
    }
   },
   "outputs": [],
   "source": []
  }
 ],
 "metadata": {
  "kernelspec": {
   "display_name": "PySpark",
   "language": "",
   "name": "pysparkkernel"
  },
  "language_info": {
   "codemirror_mode": {
    "name": "python",
    "version": 3
   },
   "mimetype": "text/x-python",
   "name": "pyspark",
   "pygments_lexer": "python3"
  }
 },
 "nbformat": 4,
 "nbformat_minor": 5
}