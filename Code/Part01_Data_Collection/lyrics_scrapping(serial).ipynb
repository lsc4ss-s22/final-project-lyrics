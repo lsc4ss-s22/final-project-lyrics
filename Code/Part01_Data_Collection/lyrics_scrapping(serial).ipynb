{
 "cells": [
  {
   "cell_type": "markdown",
   "source": [
    "# MACS-30123 Final Project: Data Collection\n",
    "Baotong Zhang\n",
    "baotongzh@uchicago.edu"
   ],
   "metadata": {
    "collapsed": false,
    "pycharm": {
     "name": "#%% md\n"
    }
   }
  },
  {
   "cell_type": "code",
   "execution_count": 97,
   "outputs": [
    {
     "name": "stdout",
     "output_type": "stream",
     "text": [
      "Overwriting scrapper.py\n"
     ]
    }
   ],
   "source": [
    "%%writefile scrapper.py\n",
    "\n",
    "import pandas as pd\n",
    "import csv\n",
    "import re\n",
    "from lyricsgenius import Genius\n",
    "from mpi4py import MPI\n",
    "\n",
    "songs = pd.read_csv('billboard.csv')\n",
    "songs['year'] = pd.DatetimeIndex(songs['date']).year\n",
    "songs.drop(['date', 'rank', 'last-week', 'peak-rank', 'weeks-on-board'], axis=1, inplace=True)\n",
    "songs.drop_duplicates(inplace=True)\n",
    "sampled_df = songs.groupby('year').sample(n=150, random_state=42, replace=False)\n",
    "\n",
    "token = 'JyD9-_LdqpyHilUA3esIXZt0Dp4Ftcc4TMo9cq7b4q2zLVfDDR1AYtIoXsXnf1DS'\n",
    "genius = Genius(token)\n",
    "genius.verbose = False # Turn off status messages\n",
    "genius.remove_section_headers = True # Remove section headers (e.g. [Chorus]) from lyrics when searching\n",
    "genius.skip_non_songs = False # Include hits thought to be non-songs (e.g. track lists)\n",
    "genius.excluded_terms = [\"(Remix)\", \"(Live)\"] # Exclude songs with these words in their title\n",
    "\n",
    "def scraper(years, file_name):\n",
    "    with open(file_name+'.csv', 'w', newline=\"\", encoding='utf-8') as csvfile:\n",
    "        output = csv.writer(csvfile)\n",
    "        output.writerow(['Year', 'Artist', 'Song Name', 'Lyrics'])\n",
    "        for year in range(years[0], years[1]):\n",
    "            year_df = sampled_df[sampled_df['year'] == year]\n",
    "            for i in range(150):\n",
    "                song_name = year_df.iloc[i, 0]\n",
    "                song_artist = re.split('& | Featuring | And', year_df.iloc[i, 1]) + [year_df.iloc[i, 1]]\n",
    "                try:\n",
    "                    for j in song_artist:\n",
    "                        if genius.search_artist(j , max_songs=1, sort=\"title\"):\n",
    "                            artist = genius.search_artist(j , max_songs=1, sort=\"title\")\n",
    "                            try:\n",
    "                                song = artist.song(song_name)\n",
    "                                lyrics = song.lyrics\n",
    "                                output.writerow([year, year_df.iloc[i, 1], song_name, lyrics])\n",
    "                                break\n",
    "                            except:\n",
    "                                continue\n",
    "                        else:\n",
    "                            continue\n",
    "                except:\n",
    "                    pass\n",
    "\n",
    "comm = MPI.COMM_WORLD\n",
    "size = comm.Get_size()\n",
    "rank = comm.Get_rank()\n",
    "name = MPI.Get_processor_name()\n",
    "\n",
    "base = 1958 + 4 * rank\n",
    "years = (base, base + 4)\n",
    "scraper(years, file_name=f'part{rank}')\n",
    "print(f'part{rank} done!')"
   ],
   "metadata": {
    "collapsed": false,
    "pycharm": {
     "name": "#%%\n"
    }
   }
  },
  {
   "cell_type": "code",
   "execution_count": 98,
   "outputs": [
    {
     "name": "stdout",
     "output_type": "stream",
     "text": [
      "part12 done!\n",
      "part1 done!\n",
      "part13 done!\n",
      "part6 done!\n",
      "part11 done!\n",
      "part8 done!\n",
      "part14 done!\n",
      "part7 done!\n",
      "part2 done!\n",
      "part9 done!\n",
      "part10 done!\n",
      "part4 done!\n",
      "part5 done!\n",
      "part15 done!\n",
      "part0 done!\n",
      "part3 done!\n"
     ]
    }
   ],
   "source": [
    "! mpiexec -n 16 python scrapper.py"
   ],
   "metadata": {
    "collapsed": false,
    "pycharm": {
     "name": "#%%\n"
    }
   }
  }
 ],
 "metadata": {
  "kernelspec": {
   "display_name": "Python 3",
   "language": "python",
   "name": "python3"
  },
  "language_info": {
   "codemirror_mode": {
    "name": "ipython",
    "version": 2
   },
   "file_extension": ".py",
   "mimetype": "text/x-python",
   "name": "python",
   "nbconvert_exporter": "python",
   "pygments_lexer": "ipython2",
   "version": "2.7.6"
  }
 },
 "nbformat": 4,
 "nbformat_minor": 0
}